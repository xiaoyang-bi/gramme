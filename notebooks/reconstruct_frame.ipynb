{
 "cells": [
  {
   "cell_type": "code",
   "execution_count": 1,
   "metadata": {},
   "outputs": [],
   "source": [
    "import sys\n",
    "sys.path.append('..')"
   ]
  },
  {
   "cell_type": "code",
   "execution_count": 10,
   "metadata": {},
   "outputs": [],
   "source": [
    "import torch\n",
    "import torch.fft\n",
    "import numpy as np\n",
    "import matplotlib.pyplot as plt\n",
    "\n",
    "from datasets.sequence_folders import SequenceFolder\n",
    "from utils import tensor2array"
   ]
  },
  {
   "cell_type": "code",
   "execution_count": 3,
   "metadata": {},
   "outputs": [],
   "source": [
    "device = torch.device(\"cuda\") if torch.cuda.is_available() else torch.device(\"cpu\")"
   ]
  },
  {
   "cell_type": "code",
   "execution_count": 5,
   "metadata": {},
   "outputs": [],
   "source": [
    "train_set = SequenceFolder(\n",
    "            '/mnt/datasets/yasin/range-azimuth',\n",
    "            train=True,\n",
    "            sequence_length=3,\n",
    "            skip_frames=10\n",
    "        )"
   ]
  },
  {
   "cell_type": "code",
   "execution_count": 6,
   "metadata": {},
   "outputs": [],
   "source": [
    "train_loader = torch.utils.data.DataLoader(\n",
    "        train_set, batch_size=8, shuffle=True,\n",
    "        num_workers=4, pin_memory=True)"
   ]
  },
  {
   "cell_type": "code",
   "execution_count": 7,
   "metadata": {},
   "outputs": [],
   "source": [
    "dataset_iter = iter(train_loader)\n",
    "tgt_img, ref_imgs = next(dataset_iter)\n",
    "tgt_img = tgt_img.to(device)\n",
    "ref_imgs = [img.to(device) for img in ref_imgs]"
   ]
  },
  {
   "cell_type": "code",
   "execution_count": 8,
   "metadata": {},
   "outputs": [
    {
     "name": "stdout",
     "output_type": "stream",
     "text": [
      "torch.Size([8, 1, 256, 64])\n",
      "2\n",
      "torch.Size([8, 1, 256, 64])\n",
      "tensor(119.4595, device='cuda:0') tensor(6.5373, device='cuda:0')\n"
     ]
    }
   ],
   "source": [
    "print(tgt_img.shape)\n",
    "print(len(ref_imgs))\n",
    "print(ref_imgs[0].shape)\n",
    "print(tgt_img.mean(), tgt_img.std())"
   ]
  },
  {
   "cell_type": "code",
   "execution_count": 50,
   "metadata": {},
   "outputs": [],
   "source": [
    "rangeResolutionsInMeter = 0.0977\n",
    "numRangeBins = 256\n",
    "num_angle_bins = 64\n",
    "\n",
    "warper = Warper(rangeResolutionsInMeter, numRangeBins, num_angle_bins, 0)"
   ]
  },
  {
   "cell_type": "code",
   "execution_count": 71,
   "metadata": {},
   "outputs": [
    {
     "name": "stdout",
     "output_type": "stream",
     "text": [
      "torch.Size([6])\n",
      "torch.Size([8, 6])\n"
     ]
    }
   ],
   "source": [
    "pose = torch.tensor([0.8, 0, 0, 0,0,0.1745])\n",
    "print(pose.shape)\n",
    "pose_batch = pose.repeat(8,1)\n",
    "print(pose_batch.shape)\n",
    "pose_batch = pose_batch.to(device)"
   ]
  },
  {
   "cell_type": "code",
   "execution_count": 72,
   "metadata": {},
   "outputs": [],
   "source": [
    "projected_img, valid_points, theta_tformed, rho_tformed = warper.inverse_warp_fft(ref_imgs[0], pose_batch)"
   ]
  },
  {
   "cell_type": "code",
   "execution_count": 73,
   "metadata": {},
   "outputs": [
    {
     "name": "stdout",
     "output_type": "stream",
     "text": [
      "torch.Size([64, 256])\n",
      "tensor([[  0.0000, -23.5259, -23.5259,  ..., -23.5259, -23.5259, -23.5259],\n",
      "        [  0.0000, -22.7154, -22.7154,  ..., -22.7154, -22.7154, -22.7154],\n",
      "        [  0.0000, -21.9122, -21.9122,  ..., -21.9122, -21.9122, -21.9122],\n",
      "        ...,\n",
      "        [  0.0000,  21.1161,  21.1161,  ...,  21.1161,  21.1161,  21.1161],\n",
      "        [  0.0000,  21.9122,  21.9122,  ...,  21.9122,  21.9122,  21.9122],\n",
      "        [  0.0000,  22.7154,  22.7154,  ...,  22.7154,  22.7154,  22.7154]],\n",
      "       device='cuda:0')\n"
     ]
    }
   ],
   "source": [
    "theta_tformed_hw = theta_tformed[0].reshape(64, 256)\n",
    "print(theta_tformed_hw.shape)\n",
    "print(theta_tformed_hw)"
   ]
  },
  {
   "cell_type": "code",
   "execution_count": 74,
   "metadata": {},
   "outputs": [
    {
     "name": "stdout",
     "output_type": "stream",
     "text": [
      "torch.Size([64, 256])\n",
      "tensor([[ 0.0000,  0.0904,  0.1807,  ..., 22.8625, 22.9528, 23.0432],\n",
      "        [ 0.0000,  0.0908,  0.1816,  ..., 22.9691, 23.0599, 23.1507],\n",
      "        [ 0.0000,  0.0912,  0.1824,  ..., 23.0734, 23.1646, 23.2558],\n",
      "        ...,\n",
      "        [ 0.0000,  0.0916,  0.1832,  ..., 23.1751, 23.2667, 23.3583],\n",
      "        [ 0.0000,  0.0912,  0.1824,  ..., 23.0734, 23.1646, 23.2558],\n",
      "        [ 0.0000,  0.0908,  0.1816,  ..., 22.9691, 23.0599, 23.1507]],\n",
      "       device='cuda:0')\n"
     ]
    }
   ],
   "source": [
    "rho_tformed_hw = rho_tformed[0].reshape(64, 256)\n",
    "print(rho_tformed_hw.shape)\n",
    "print(rho_tformed_hw)"
   ]
  },
  {
   "cell_type": "code",
   "execution_count": 12,
   "metadata": {},
   "outputs": [
    {
     "name": "stdout",
     "output_type": "stream",
     "text": [
      "torch.Size([8, 1, 256, 64])\n"
     ]
    }
   ],
   "source": [
    "print(projected_img.shape)"
   ]
  },
  {
   "cell_type": "code",
   "execution_count": 75,
   "metadata": {},
   "outputs": [],
   "source": [
    "img_tgt = tensor2array(tgt_img[0], colormap='bone')\n",
    "img_src = tensor2array(projected_img[0], colormap='bone')"
   ]
  },
  {
   "cell_type": "code",
   "execution_count": 76,
   "metadata": {},
   "outputs": [
    {
     "name": "stdout",
     "output_type": "stream",
     "text": [
      "(256, 64, 4)\n",
      "(256, 64, 4)\n"
     ]
    }
   ],
   "source": [
    "img_tgt=img_tgt.transpose(1, 2, 0)\n",
    "img_src=img_src.transpose(1, 2, 0)\n",
    "\n",
    "print(img_tgt.shape)\n",
    "print(img_src.shape)"
   ]
  },
  {
   "cell_type": "code",
   "execution_count": 77,
   "metadata": {},
   "outputs": [
    {
     "data": {
      "text/plain": [
       "<matplotlib.image.AxesImage at 0x7fbe08402550>"
      ]
     },
     "execution_count": 77,
     "metadata": {},
     "output_type": "execute_result"
    },
    {
     "data": {
      "image/png": "[encoded data removed]",
      "text/plain": [
       "<Figure size 1152x576 with 2 Axes>"
      ]
     },
     "metadata": {
      "needs_background": "light"
     },
     "output_type": "display_data"
    }
   ],
   "source": [
    "plt.figure(figsize=(16,8))\n",
    "plt.subplot(121)\n",
    "plt.imshow(img_tgt)\n",
    "plt.subplot(122)\n",
    "plt.imshow(img_src)"
   ]
  },
  {
   "cell_type": "code",
   "execution_count": 49,
   "metadata": {
    "jupyter": {
     "source_hidden": true
    }
   },
   "outputs": [],
   "source": [
    "from __future__ import division\n",
    "import torch\n",
    "import torch.nn.functional as F\n",
    "\n",
    "import conversions as tgm\n",
    "\n",
    "device = torch.device(\"cuda\") if torch.cuda.is_available() else torch.device(\"cpu\")\n",
    "\n",
    "class Warper(object):\n",
    "    \"\"\"Inverse warper class\n",
    "    \"\"\"\n",
    "\n",
    "    # xy_hom = None\n",
    "\n",
    "    def __init__(self, rangeResolutionsInMeter, numRangeBins, num_angle_bins,\n",
    "    with_auto_mask, padding_mode='zeros'):\n",
    "        # RF params\n",
    "        # rangeResolutionsInMeter = 0.0977\n",
    "        # # dopplerResolutionMps = 0.0951\n",
    "        # numRangeBins = 256\n",
    "        # # numDopplerBins = 128\n",
    "        # num_angle_bins = 64 # our choice\n",
    "        self.rangeResolutionsInMeter=rangeResolutionsInMeter\n",
    "        self.numRangeBins=numRangeBins\n",
    "        self.num_angle_bins=num_angle_bins\n",
    "        self.with_auto_mask=with_auto_mask\n",
    "        self.padding_mode=padding_mode\n",
    "\n",
    "        azimuths = torch.arange(num_angle_bins)\n",
    "        azimuths = (azimuths - (num_angle_bins / 2))\n",
    "        ranges = torch.arange(numRangeBins)\n",
    "        ranges = ranges*rangeResolutionsInMeter\n",
    "\n",
    "        az_grid, range_grid = torch.meshgrid(azimuths, ranges)\n",
    "        x, y = pol2cart(torch.deg2rad(az_grid), range_grid)\n",
    "        x=torch.flatten(x)\n",
    "        y=torch.flatten(y)\n",
    "\n",
    "        xy = torch.vstack((x, y, torch.zeros_like(x)))  # [3,N] Augment with zero z column\n",
    "        xy = torch.transpose(xy, 0,1) # [N,3]\n",
    "        self.xy_hom = tgm.convert_points_to_homogeneous(xy).to(device) # [N,4]\n",
    "\n",
    "    \n",
    "    def radar2pixel(self, pose_mat):\n",
    "        \"\"\"Transform coordinates in the source frame to the target frame.\n",
    "        Args:\n",
    "            cam_coords: pixel coordinates defined in the first camera coordinates system -- [B, 4, H, W]\n",
    "            proj_c2p_rot: rotation matrix of cameras -- [B, 3, 4]\n",
    "            proj_c2p_tr: translation vectors of cameras -- [B, 3, 1]\n",
    "        Returns:\n",
    "            array of [-1,1] coordinates -- [B, 2, H, W]\n",
    "        \"\"\"\n",
    "        # Transform points\n",
    "        tformed_xy_hom = torch.matmul(pose_mat, torch.transpose(self.xy_hom, 0,1)) # [B,4,N]\n",
    "        tformed_xy_hom = torch.transpose(tformed_xy_hom, 1,2) # [B,N,4]\n",
    "        # Convert from homogenous coordinates\n",
    "        tformed_xy = tgm.convert_points_from_homogeneous(tformed_xy_hom) # [B,N,3]\n",
    "        # Convert back from cartesian to polar\n",
    "        theta_tformed_rad, rho_tformed = cart2pol(tformed_xy[:,:,0], tformed_xy[:,:,1]) # [B,N], [B,N]\n",
    "        theta_tformed = torch.rad2deg(theta_tformed_rad) # [B,N]\n",
    "        \n",
    "\n",
    "        # tformed_xy = tformed_xy[:,0:2,:] # Drop augmented z column [B,2,N]\n",
    "        # Replace 0-valued augmented z column with dB values of source img \n",
    "        # tformed_xy[:,2,:] = torch.flatten(img, start_dim=1) # [B,3,N] N points with x,y and db values\n",
    "\n",
    "        X = theta_tformed # [B,N]\n",
    "        Y = rho_tformed # [B,N]\n",
    "        w = self.num_angle_bins\n",
    "        h = (self.numRangeBins-1)*self.rangeResolutionsInMeter\n",
    "\n",
    "        # Normalized, -1 if on extreme left, 1 if on extreme right (x = w-1) [B, H*W]\n",
    "        X_norm = 2*X/w\n",
    "        Y_norm = 2*Y/h - 1  # Idem [B, H*W]\n",
    "\n",
    "        pixel_coords = torch.stack([X_norm, Y_norm], dim=2)  # [B, H*W, 2]\n",
    "        pixel_coords = pixel_coords.reshape(self.b, self.w, self.h, 2)\n",
    "        pixel_coords = pixel_coords.transpose(1,2)\n",
    "\n",
    "        return pixel_coords, theta_tformed, rho_tformed\n",
    "    \n",
    "    def inverse_warp_fft(self, img, pose, rotation_mode='euler'):\n",
    "        \"\"\"\n",
    "        Inverse warp a source radar frame to the target radar plane.\n",
    "        H: Number of ADC samples (or Doppler bins)\n",
    "        W: Number of angle bins\n",
    "        Args:\n",
    "            img: the source radar frame image (where to sample pixels) -- [B, H, W]\n",
    "            pose: 6DoF pose parameters from target to source -- [B, 6]\n",
    "        Returns:\n",
    "            projected_img: Source image warped to the target image plane\n",
    "            valid_points: Boolean array indicating point validity\n",
    "        \"\"\"\n",
    "        check_sizes(img, 'img', 'B1HW')\n",
    "        check_sizes(pose, 'pose', 'B6')\n",
    "\n",
    "        self.b, self.c, self.h, self.w = img.size()\n",
    "\n",
    "        assert self.w == self.num_angle_bins\n",
    "        assert self.h == self.numRangeBins\n",
    "\n",
    "        # if (xy_hom is None) or xy_hom.size(1) < 4:\n",
    "        #     set_radar_grid()\n",
    "\n",
    "        # Convert 6 DoF pose to 4x4 transformation matrix\n",
    "        pose_mat = tgm.rtvec_to_pose(pose)  # T*R in homogenous coordinates [B,4,4]\n",
    "        \n",
    "        # src_pixel_coords = pixel_coords.reshape(b, h, w, 2)\n",
    "        src_pixel_coords, theta_tformed, rho_tformed = self.radar2pixel(pose_mat)  # [B,H,W,2]\n",
    "\n",
    "        projected_img = F.grid_sample(\n",
    "            img, src_pixel_coords, padding_mode=self.padding_mode)\n",
    "\n",
    "        # calculate mask values for each tformed_xy coordinates to match the target xy\n",
    "        valid_points = src_pixel_coords.abs().max(dim=-1)[0] <= 1 # [B,H,W]\n",
    "        valid_points = torch.unsqueeze(valid_points, 1) # [B,1,H,W]\n",
    "\n",
    "        return projected_img, valid_points, theta_tformed, rho_tformed\n",
    "\n",
    "    #TODO: num_scales eklenebilir buraya.\n",
    "    # decibels loss\n",
    "    def compute_db_loss(self, tgt_img, ref_imgs, poses, poses_inv):\n",
    "\n",
    "        db_loss = 0\n",
    "        projected_imgs = ref_imgs\n",
    "\n",
    "        for i, (ref_img, pose, pose_inv) in enumerate(zip(ref_imgs, poses, poses_inv)):\n",
    "\n",
    "            db_loss1, projected_img = self.compute_pairwise_loss(tgt_img, ref_img, pose)\n",
    "            db_loss2, _ = self.compute_pairwise_loss(ref_img, tgt_img, pose_inv)\n",
    "\n",
    "            db_loss += (db_loss1 + db_loss2)\n",
    "            projected_imgs[i] = projected_img\n",
    "\n",
    "        return db_loss, projected_imgs\n",
    "\n",
    "\n",
    "    def compute_pairwise_loss(self, tgt_img, ref_img, pose):\n",
    "\n",
    "        ref_img_warped, valid_mask = self.inverse_warp_fft(ref_img, pose)\n",
    "\n",
    "        diff_img = (tgt_img - ref_img_warped).abs().clamp(0, 1)\n",
    "\n",
    "        if self.with_auto_mask == True:\n",
    "            auto_mask = (diff_img < (tgt_img - ref_img).abs()).float() # [B,1,H,W]\n",
    "            valid_mask = auto_mask * valid_mask # element-wise # [B,1,H,W]\n",
    "\n",
    "        # compute all loss\n",
    "        reconstruction_loss = mean_on_mask(diff_img, valid_mask)\n",
    "\n",
    "        return reconstruction_loss, ref_img_warped\n",
    "\n",
    "# compute mean value given a binary mask\n",
    "def mean_on_mask(diff, valid_mask):\n",
    "    mask = valid_mask.expand_as(diff)\n",
    "    if mask.sum() > 10000:\n",
    "        mean_value = (diff * mask).sum() / mask.sum()\n",
    "    else:\n",
    "        mean_value = torch.tensor(0).float().to(device)\n",
    "    return mean_value\n",
    "\n",
    "\n",
    "\n",
    "\n",
    "# # TODO: function could be parametrized\n",
    "# def set_radar_grid():\n",
    "#     global xy_hom\n",
    "#     # RF params\n",
    "#     rangeResolutionsInMeter = 0.0977\n",
    "#     # dopplerResolutionMps = 0.0951\n",
    "#     numRangeBins = 256\n",
    "#     # numDopplerBins = 128\n",
    "#     num_angle_bins = 64 # our choice\n",
    "\n",
    "#     azimuths = np.arange(num_angle_bins)\n",
    "#     azimuths = (azimuths - (num_angle_bins / 2))\n",
    "#     ranges = np.arange(numRangeBins)\n",
    "#     ranges *= rangeResolutionsInMeter\n",
    "\n",
    "#     az_grid, range_grid = torch.meshgrid(azimuths, ranges)\n",
    "#     x, y = pol2cart(torch.deg2rad(az_grid), range_grid)\n",
    "#     x=torch.flatten(x)\n",
    "#     y=torch.flatten(y)\n",
    "\n",
    "#     xy = torch.vstack((x, y, torch.zeros_like(x)))  # Nx3 Augment with zero z column\n",
    "#     xy_hom = tgm.convert_points_to_homogeneous(input)  # Nx4\n",
    "\n",
    "\n",
    "\n",
    "def check_sizes(input, input_name, expected):\n",
    "    condition = [input.ndimension() == len(expected)]\n",
    "    for i, size in enumerate(expected):\n",
    "        if size.isdigit():\n",
    "            condition.append(input.size(i) == int(size))\n",
    "    assert(all(condition)), \"wrong size for {}, expected {}, got  {}\".format(\n",
    "        input_name, 'x'.join(expected), list(input.size()))\n",
    "\n",
    "\n",
    "\n",
    "def cart2pol(x, y):\n",
    "    rho = torch.sqrt(x**2 + y**2)\n",
    "    phi = torch.atan2(y, x)\n",
    "    return phi, rho\n",
    "\n",
    "def pol2cart(phi, rho):\n",
    "    x = rho * torch.cos(phi)\n",
    "    y = rho * torch.sin(phi)\n",
    "    return x, y"
   ]
  },
  {
   "cell_type": "code",
   "execution_count": 36,
   "metadata": {},
   "outputs": [],
   "source": [
    "azimuths = torch.arange(num_angle_bins)\n",
    "azimuths = (azimuths - (num_angle_bins / 2))\n",
    "ranges = torch.arange(numRangeBins)\n",
    "ranges = ranges*rangeResolutionsInMeter\n",
    "\n",
    "az_grid, range_grid = torch.meshgrid(azimuths, ranges)"
   ]
  },
  {
   "cell_type": "code",
   "execution_count": 37,
   "metadata": {},
   "outputs": [
    {
     "name": "stdout",
     "output_type": "stream",
     "text": [
      "torch.Size([64, 256])\n"
     ]
    }
   ],
   "source": [
    "print(az_grid.shape)"
   ]
  },
  {
   "cell_type": "markdown",
   "metadata": {},
   "source": [
    "# Test FFT reconstruction loss"
   ]
  },
  {
   "cell_type": "code",
   "execution_count": 35,
   "metadata": {},
   "outputs": [],
   "source": [
    "tgt = tgt_img\n",
    "src = ref_imgs[0]\n",
    "# Apply 2D FFT on the last two dimensions, e.g., [H,W] channels.\n",
    "fft_tgt = torch.fft.rfftn(tgt, s=tgt.shape[-2:], dim=[-2,-1], norm=\"forward\") # [B,C,H,W,2]\n",
    "fft_src = torch.fft.rfftn(src, s=tgt.shape[-2:], dim=[-2,-1], norm=\"forward\") # [B,C,H,W,2]\n",
    "# fft_diff = torch.fft.rfftn(tgt-src, s=tgt.shape[-2:], dim=[-2,-1], norm=\"ortho\") # [B,C,H,W,2]\n"
   ]
  },
  {
   "cell_type": "code",
   "execution_count": 36,
   "metadata": {},
   "outputs": [
    {
     "name": "stdout",
     "output_type": "stream",
     "text": [
      "tensor(119447.0938, device='cuda:0')\n",
      "tensor(0., device='cuda:0')\n"
     ]
    }
   ],
   "source": [
    "fft_diff_phase = torch.abs(fft_tgt.angle() - fft_src.angle())\n",
    "print(fft_diff_phase.sum())\n",
    "print(fft_diff_phase.min())"
   ]
  },
  {
   "cell_type": "code",
   "execution_count": 37,
   "metadata": {},
   "outputs": [
    {
     "name": "stdout",
     "output_type": "stream",
     "text": [
      "tensor(276.8846, device='cuda:0')\n",
      "tensor(-4531531., device='cuda:0')\n",
      "tensor(1.0739e-08, device='cuda:0')\n"
     ]
    }
   ],
   "source": [
    "fft_diff_amp = torch.abs(fft_tgt.abs() - fft_src.abs())\n",
    "print(fft_diff_amp.sum())\n",
    "print(20*torch.log10(fft_diff_amp).sum())\n",
    "print(fft_diff_amp.min())"
   ]
  },
  {
   "cell_type": "code",
   "execution_count": 38,
   "metadata": {},
   "outputs": [
    {
     "data": {
      "text/plain": [
       "torch.Size([8, 1, 256, 33])"
      ]
     },
     "execution_count": 38,
     "metadata": {},
     "output_type": "execute_result"
    }
   ],
   "source": [
    "fft_tgt.shape"
   ]
  },
  {
   "cell_type": "code",
   "execution_count": null,
   "metadata": {},
   "outputs": [],
   "source": []
  }
 ],
 "metadata": {
  "kernelspec": {
   "display_name": "Python [conda env:pytorch17]",
   "language": "python",
   "name": "conda-env-pytorch17-py"
  },
  "language_info": {
   "codemirror_mode": {
    "name": "ipython",
    "version": 3
   },
   "file_extension": ".py",
   "mimetype": "text/x-python",
   "name": "python",
   "nbconvert_exporter": "python",
   "pygments_lexer": "ipython3",
   "version": "3.7.9"
  }
 },
 "nbformat": 4,
 "nbformat_minor": 4
}

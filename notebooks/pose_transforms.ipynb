{
 "cells": [
  {
   "cell_type": "code",
   "execution_count": 1,
   "metadata": {},
   "outputs": [],
   "source": [
    "import sys\n",
    "sys.path.append('..')"
   ]
  },
  {
   "cell_type": "code",
   "execution_count": 16,
   "metadata": {},
   "outputs": [],
   "source": [
    "import numpy as np\n",
    "\n",
    "import torch\n",
    "\n",
    "import conversions as tgm"
   ]
  },
  {
   "cell_type": "code",
   "execution_count": 3,
   "metadata": {},
   "outputs": [],
   "source": [
    "device = torch.device(\"cuda\") if torch.cuda.is_available() else torch.device(\"cpu\")"
   ]
  },
  {
   "cell_type": "code",
   "execution_count": 31,
   "metadata": {},
   "outputs": [
    {
     "name": "stdout",
     "output_type": "stream",
     "text": [
      "torch.Size([2, 100, 6])\n",
      "tensor([-0.0000, -0.0000, -0.0170, -0.1400, -0.1100, -0.0000])\n",
      "tensor([0.0000, 0.0000, 0.0170, 0.1400, 0.1100, 0.0000])\n"
     ]
    }
   ],
   "source": [
    "cons_p0 = torch.Tensor([0.0, 0.0, 0.017, 0.14, 0.11, 0])\n",
    "all_poses_t = cons_p0.repeat(2,100,1) # [seq_length, N, 6]\n",
    "all_poses_t[0] *= -1 # forward motion is -\n",
    "all_inv_poses_t = -all_poses_t.clone()\n",
    "print(all_poses_t.shape)\n",
    "print(all_poses_t[0,0])\n",
    "print(all_poses_t[1,0])\n",
    "N = all_poses_t.shape[1] #len(all_poses) # number of sequences\n",
    "k=3"
   ]
  },
  {
   "cell_type": "code",
   "execution_count": 32,
   "metadata": {},
   "outputs": [
    {
     "name": "stdout",
     "output_type": "stream",
     "text": [
      "tensor([ 0,  3,  6,  9, 12, 15, 18, 21, 24, 27, 30, 33, 36, 39, 42, 45, 48, 51,\n",
      "        54, 57, 60, 63, 66, 69, 72, 75, 78, 81, 84, 87, 90, 93, 96, 99])\n"
     ]
    }
   ],
   "source": [
    "ate_bs = []\n",
    "ate_fs = []\n",
    "f_pred_xyz = None\n",
    "i=0\n",
    "#for i in range(k):\n",
    "idx = torch.arange(i, N, k)\n",
    "print(idx)"
   ]
  },
  {
   "cell_type": "code",
   "execution_count": 34,
   "metadata": {},
   "outputs": [
    {
     "name": "stdout",
     "output_type": "stream",
     "text": [
      "tensor([-0.0000, -0.0000, -0.0170, -0.1400, -0.1100, -0.0000])\n"
     ]
    }
   ],
   "source": [
    "b_pose_avg = (all_poses_t[0, idx] - all_inv_poses_t[0, idx])/2 # (tgt2src + inv(src2tgt))/2 [n,6]\n",
    "print(b_pose_avg[0])"
   ]
  },
  {
   "cell_type": "code",
   "execution_count": 39,
   "metadata": {},
   "outputs": [
    {
     "name": "stdout",
     "output_type": "stream",
     "text": [
      "tensor([[[ 0.9999,  0.0170,  0.0000, -0.1400],\n",
      "         [-0.0170,  0.9999,  0.0000, -0.1100],\n",
      "         [ 0.0000,  0.0000,  1.0000, -0.0000],\n",
      "         [ 0.0000,  0.0000,  0.0000,  1.0000]],\n",
      "\n",
      "        [[ 0.9999,  0.0170,  0.0000, -0.1400],\n",
      "         [-0.0170,  0.9999,  0.0000, -0.1100],\n",
      "         [ 0.0000,  0.0000,  1.0000, -0.0000],\n",
      "         [ 0.0000,  0.0000,  0.0000,  1.0000]]])\n"
     ]
    }
   ],
   "source": [
    "b_pose = tgm.rtvec_to_pose(b_pose_avg) # src2tgt [n,4,4]\n",
    "print(b_pose[0:2])"
   ]
  },
  {
   "cell_type": "code",
   "execution_count": 40,
   "metadata": {},
   "outputs": [
    {
     "name": "stdout",
     "output_type": "stream",
     "text": [
      "tensor([[[ 0.9999, -0.0170,  0.0000,  0.1381],\n",
      "         [ 0.0170,  0.9999,  0.0000,  0.1124],\n",
      "         [ 0.0000,  0.0000,  1.0000,  0.0000],\n",
      "         [ 0.0000,  0.0000,  0.0000,  1.0000]],\n",
      "\n",
      "        [[ 0.9999, -0.0170,  0.0000,  0.1381],\n",
      "         [ 0.0170,  0.9999,  0.0000,  0.1124],\n",
      "         [ 0.0000,  0.0000,  1.0000,  0.0000],\n",
      "         [ 0.0000,  0.0000,  0.0000,  1.0000]]])\n"
     ]
    }
   ],
   "source": [
    "b_pose = tgm.inv_rigid_tform(b_pose) # tgt2src [n,4,4]\n",
    "print(b_pose[0:2])"
   ]
  },
  {
   "cell_type": "code",
   "execution_count": 41,
   "metadata": {},
   "outputs": [
    {
     "name": "stdout",
     "output_type": "stream",
     "text": [
      "tensor([[[ 0.9999, -0.0170,  0.0000,  0.1381],\n",
      "         [ 0.0170,  0.9999,  0.0000,  0.1124],\n",
      "         [ 0.0000,  0.0000,  1.0000,  0.0000],\n",
      "         [ 0.0000,  0.0000,  0.0000,  1.0000]],\n",
      "\n",
      "        [[ 0.9994, -0.0340,  0.0000,  0.2743],\n",
      "         [ 0.0340,  0.9994,  0.0000,  0.2271],\n",
      "         [ 0.0000,  0.0000,  1.0000,  0.0000],\n",
      "         [ 0.0000,  0.0000,  0.0000,  1.0000]],\n",
      "\n",
      "        [[ 0.9987, -0.0510,  0.0000,  0.4085],\n",
      "         [ 0.0510,  0.9987,  0.0000,  0.3441],\n",
      "         [ 0.0000,  0.0000,  1.0000,  0.0000],\n",
      "         [ 0.0000,  0.0000,  0.0000,  1.0000]]])\n"
     ]
    }
   ],
   "source": [
    "b_pose_abs = rel2abs_traj(b_pose)\n",
    "print(b_pose_abs[0:3])"
   ]
  },
  {
   "cell_type": "code",
   "execution_count": 42,
   "metadata": {},
   "outputs": [
    {
     "name": "stdout",
     "output_type": "stream",
     "text": [
      "tensor([[[ 1.0000e+00,  0.0000e+00,  0.0000e+00, -1.4901e-08],\n",
      "         [ 0.0000e+00,  1.0000e+00,  0.0000e+00,  0.0000e+00],\n",
      "         [ 0.0000e+00,  0.0000e+00,  1.0000e+00,  0.0000e+00],\n",
      "         [ 0.0000e+00,  0.0000e+00,  0.0000e+00,  1.0000e+00]],\n",
      "\n",
      "        [[ 9.9986e-01, -1.6998e-02,  0.0000e+00,  1.3811e-01],\n",
      "         [ 1.6998e-02,  9.9986e-01,  0.0000e+00,  1.1236e-01],\n",
      "         [ 0.0000e+00,  0.0000e+00,  1.0000e+00,  0.0000e+00],\n",
      "         [ 0.0000e+00,  0.0000e+00,  0.0000e+00,  1.0000e+00]],\n",
      "\n",
      "        [[ 9.9942e-01, -3.3991e-02,  0.0000e+00,  2.7429e-01],\n",
      "         [ 3.3991e-02,  9.9942e-01,  0.0000e+00,  2.2706e-01],\n",
      "         [ 0.0000e+00,  0.0000e+00,  1.0000e+00,  0.0000e+00],\n",
      "         [ 0.0000e+00,  0.0000e+00,  0.0000e+00,  1.0000e+00]]])\n"
     ]
    }
   ],
   "source": [
    "b_pose_abs = align_to_origin(b_pose_abs)\n",
    "print(b_pose_abs[0:3])"
   ]
  },
  {
   "cell_type": "code",
   "execution_count": 43,
   "metadata": {},
   "outputs": [
    {
     "name": "stdout",
     "output_type": "stream",
     "text": [
      "tensor([[[ 1.0000e+00,  0.0000e+00,  0.0000e+00, -1.4901e-08],\n",
      "         [ 0.0000e+00,  1.0000e+00,  0.0000e+00,  0.0000e+00],\n",
      "         [ 0.0000e+00,  0.0000e+00,  1.0000e+00,  0.0000e+00],\n",
      "         [ 0.0000e+00,  0.0000e+00,  0.0000e+00,  1.0000e+00]],\n",
      "\n",
      "        [[ 9.9986e-01, -1.6998e-02,  0.0000e+00,  1.3811e-01],\n",
      "         [ 1.6998e-02,  9.9986e-01,  0.0000e+00,  1.1236e-01],\n",
      "         [ 0.0000e+00,  0.0000e+00,  1.0000e+00,  0.0000e+00],\n",
      "         [ 0.0000e+00,  0.0000e+00,  0.0000e+00,  1.0000e+00]],\n",
      "\n",
      "        [[ 9.9942e-01, -3.3991e-02,  0.0000e+00,  2.7429e-01],\n",
      "         [ 3.3991e-02,  9.9942e-01,  0.0000e+00,  2.2706e-01],\n",
      "         [ 0.0000e+00,  0.0000e+00,  1.0000e+00,  0.0000e+00],\n",
      "         [ 0.0000e+00,  0.0000e+00,  0.0000e+00,  1.0000e+00]],\n",
      "\n",
      "        [[ 9.9870e-01, -5.0975e-02,  0.0000e+00,  4.0850e-01],\n",
      "         [ 5.0975e-02,  9.9870e-01,  0.0000e+00,  3.4405e-01],\n",
      "         [ 0.0000e+00,  0.0000e+00,  1.0000e+00,  0.0000e+00],\n",
      "         [ 0.0000e+00,  0.0000e+00,  0.0000e+00,  1.0000e+00]],\n",
      "\n",
      "        [[ 9.9769e-01, -6.7944e-02,  0.0000e+00,  5.4070e-01],\n",
      "         [ 6.7944e-02,  9.9769e-01,  0.0000e+00,  4.6331e-01],\n",
      "         [ 0.0000e+00,  0.0000e+00,  1.0000e+00,  0.0000e+00],\n",
      "         [ 0.0000e+00,  0.0000e+00,  0.0000e+00,  1.0000e+00]]])\n"
     ]
    }
   ],
   "source": [
    "print(b_pose_abs[0:5])"
   ]
  },
  {
   "cell_type": "code",
   "execution_count": 44,
   "metadata": {},
   "outputs": [
    {
     "name": "stdout",
     "output_type": "stream",
     "text": [
      "tensor([[0.0000, 0.0000, 0.0170, 0.1400, 0.1100, 0.0000],\n",
      "        [0.0000, 0.0000, 0.0340, 0.2800, 0.2200, 0.0000],\n",
      "        [0.0000, 0.0000, 0.0510, 0.4200, 0.3300, 0.0000]])\n"
     ]
    }
   ],
   "source": [
    "b_pose = (all_poses_t[0, idx] - all_inv_poses_t[0, idx])/2 # (tgt2src + inv(src2tgt))/2 [n,6]\n",
    "# b_pose = tgm.rtvec_to_pose(b_pose_avg) # src2tgt [n,4,4]\n",
    "# b_pose = tgm.inv_rigid_tform(b_pose) # tgt2src [n,4,4]\n",
    "b_pose = -b_pose # tgt2src [n,6]\n",
    "# b_inv_pose = tgm.rtvec_to_pose(all_inv_poses_t[0, idx]) # inv(src2tgt) [n,4,4]            \n",
    "# b_pose = rel2abs_traj(b_pose)\n",
    "b_pose = b_pose.cumsum(dim=0) # [n,6]\n",
    "print(b_pose[:3])"
   ]
  },
  {
   "cell_type": "code",
   "execution_count": 45,
   "metadata": {},
   "outputs": [],
   "source": [
    "b_pose = b_pose-b_pose[0]"
   ]
  },
  {
   "cell_type": "code",
   "execution_count": 46,
   "metadata": {},
   "outputs": [
    {
     "name": "stdout",
     "output_type": "stream",
     "text": [
      "tensor([[0.0000, 0.0000, 0.0000, 0.0000, 0.0000, 0.0000],\n",
      "        [0.0000, 0.0000, 0.0170, 0.1400, 0.1100, 0.0000],\n",
      "        [0.0000, 0.0000, 0.0340, 0.2800, 0.2200, 0.0000]])\n"
     ]
    }
   ],
   "source": [
    "print(b_pose[:3])"
   ]
  },
  {
   "cell_type": "code",
   "execution_count": null,
   "metadata": {},
   "outputs": [],
   "source": [
    "\n",
    "# Previous src\n",
    "b_pose_avg = (all_poses_t[0, idx] - all_inv_poses_t[0, idx])/2 # (src2tgt + inv(tgt2src))/2 [n,4,4]\n",
    "b_pose = tgm.rtvec_to_pose(b_pose_avg) # src2tgt [n,4,4]\n",
    "b_pose = tgm.inv_rigid_tform(b_pose) # tgt2src [n,4,4]\n",
    "# b_inv_pose = tgm.rtvec_to_pose(all_inv_poses_t[0, idx]) # inv(src2tgt) [n,4,4]\n",
    "b_pose = rel2abs_traj(b_pose)\n",
    "gt_idx = idx+k #torch.arange(k+i, N+k, k)\n",
    "gt_seq_i = self.gt[gt_idx,:]\n",
    "ate_b, _ = self.calculate_ate(b_pose, gt_seq_i)\n",
    "ate_bs.append(ate_b)\n",
    "\n",
    "# Next src\n",
    "f_pose = tgm.rtvec_to_pose(all_poses_t[1, idx]) # tgt2src [n,4,4]\n",
    "f_inv_pose = tgm.rtvec_to_pose(all_inv_poses_t[1, idx]) # inv(tgt2src) [n,4,4]\n",
    "f_inv_pose = tgm.inv_rigid_tform(f_inv_pose) # inv(inv(tgt2src)) [n,4,4]\n",
    "f_pose = (f_pose + f_inv_pose)/2 # (tgt2src + inv(inv(tgt2src)))/2 [n,4,4]\n",
    "f_pose = rel2abs_traj(f_pose)\n",
    "gt_idx = idx+2*k #torch.arange(2*k, N+2*k, k)\n",
    "gt_seq_i = self.gt[gt_idx,:]\n",
    "ate_f, f_pred_xyz = self.calculate_ate(f_pose, gt_seq_i)\n",
    "ate_fs.append(ate_f)\n",
    "\n",
    "ate_bs = torch.cat(ate_bs)\n",
    "ate_fs = torch.cat(ate_fs)"
   ]
  },
  {
   "cell_type": "code",
   "execution_count": 28,
   "metadata": {},
   "outputs": [],
   "source": [
    "def rel2abs_traj(rel_pose):\n",
    "    \"\"\"Convert a given relative pose sequences to absolute pose sequences.\n",
    "\n",
    "    Args:\n",
    "        rel_pose (torch.Tensor): Relative pose sequence in the form of homogenous transformation matrix. Shape: [N,4,4]\n",
    "\n",
    "    Returns:\n",
    "        torch.Tensor: Absolute pose sequence in the form of homogenous transformation matrix. Shape: [N,4,4]\n",
    "    \"\"\"\n",
    "\n",
    "    abs_pose = rel_pose.clone()\n",
    "    for i in range(1,abs_pose.shape[0]):\n",
    "        abs_pose[i] = abs_pose[i] @ abs_pose[i-1]\n",
    "\n",
    "    return abs_pose"
   ]
  },
  {
   "cell_type": "code",
   "execution_count": 38,
   "metadata": {},
   "outputs": [],
   "source": [
    "\n",
    "def align_to_origin(pose):\n",
    "    \"\"\"Aligns a given trajectory to the origin.\n",
    "\n",
    "    Args:\n",
    "        pose (torch.Tensor): Absolute trajectory in the form of homogenous transformation matrix. Shape: [N,4,4]\n",
    "\n",
    "    Returns:\n",
    "        torch.Tensor: Origin-aligned absolute trajectory.\n",
    "    \"\"\"\n",
    "\n",
    "    aligned_pose = pose.clone()\n",
    "    inv_pose0 = tgm.inv_rigid_tform(pose[0:1])\n",
    "    aligned_pose = torch.matmul(aligned_pose, inv_pose0)\n",
    "    return aligned_pose"
   ]
  },
  {
   "cell_type": "code",
   "execution_count": null,
   "metadata": {},
   "outputs": [],
   "source": []
  }
 ],
 "metadata": {
  "kernelspec": {
   "display_name": "Python [conda env:pytorch17]",
   "language": "python",
   "name": "conda-env-pytorch17-py"
  },
  "language_info": {
   "codemirror_mode": {
    "name": "ipython",
    "version": 3
   },
   "file_extension": ".py",
   "mimetype": "text/x-python",
   "name": "python",
   "nbconvert_exporter": "python",
   "pygments_lexer": "ipython3",
   "version": "3.7.9"
  }
 },
 "nbformat": 4,
 "nbformat_minor": 4
}

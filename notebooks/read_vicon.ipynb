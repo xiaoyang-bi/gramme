{
 "cells": [
  {
   "cell_type": "markdown",
   "metadata": {},
   "source": [
    "Read pose data from vicon csv file in and save in `radar_odometry.py` compatible format.\n",
    "Basically, it reads in quaternion \\[x,y,x,p,q,r,w\\] format and converts it to \\[1x12\\] transformation matrix format."
   ]
  },
  {
   "cell_type": "code",
   "execution_count": 1,
   "metadata": {},
   "outputs": [],
   "source": [
    "import sys\n",
    "sys.path.append('..')"
   ]
  },
  {
   "cell_type": "code",
   "execution_count": 2,
   "metadata": {},
   "outputs": [],
   "source": [
    "import numpy as np\n",
    "import conversions as tgm\n",
    "import torch"
   ]
  },
  {
   "cell_type": "code",
   "execution_count": 3,
   "metadata": {},
   "outputs": [
    {
     "name": "stdout",
     "output_type": "stream",
     "text": [
      "env: CUDA_VISIBLE_DEVICES=4\n"
     ]
    }
   ],
   "source": [
    "%env CUDA_VISIBLE_DEVICES=4"
   ]
  },
  {
   "cell_type": "code",
   "execution_count": 4,
   "metadata": {},
   "outputs": [],
   "source": [
    "device = torch.device(\"cuda\") if torch.cuda.is_available() else torch.device(\"cpu\")"
   ]
  },
  {
   "cell_type": "code",
   "execution_count": 5,
   "metadata": {},
   "outputs": [
    {
     "name": "stdout",
     "output_type": "stream",
     "text": [
      "cuda\n"
     ]
    }
   ],
   "source": [
    "print(device)"
   ]
  },
  {
   "cell_type": "code",
   "execution_count": 6,
   "metadata": {},
   "outputs": [
    {
     "name": "stdout",
     "output_type": "stream",
     "text": [
      "(7928, 12)\n"
     ]
    }
   ],
   "source": [
    "f_vicon = '/mnt/datasets/yasin/records2-23mart2020/vicon-data/2020-03-23-18-42-55-test1.csv'\n",
    "#f_vicon = '/mnt/datasets/yasin/records2-23mart2020/vicon-data/2020-03-23-18-50-27-test2.csv'\n",
    "vicon_full = np.genfromtxt(f_vicon, delimiter=',', skip_header=True)\n",
    "print(vicon_full.shape)"
   ]
  },
  {
   "cell_type": "code",
   "execution_count": 7,
   "metadata": {},
   "outputs": [
    {
     "name": "stdout",
     "output_type": "stream",
     "text": [
      "(7928, 7)\n"
     ]
    }
   ],
   "source": [
    "# xyzpqrw\n",
    "vicon = vicon_full[:,5:]\n",
    "print(vicon.shape)"
   ]
  },
  {
   "cell_type": "code",
   "execution_count": 8,
   "metadata": {},
   "outputs": [],
   "source": [
    "# Number of radar frames in seqs\n",
    "n_test = 1993 #test1\n",
    "#n_test = 2047+1078 #test2"
   ]
  },
  {
   "cell_type": "code",
   "execution_count": 9,
   "metadata": {},
   "outputs": [],
   "source": [
    "# Generate random uniformly distributed n_test1 indices\n",
    "rng = np.random.default_rng()\n",
    "ind_perm = rng.permutation(vicon.shape[0])\n",
    "ind_sample = sorted(ind_perm[:n_test])\n",
    "# print(ind_sample)"
   ]
  },
  {
   "cell_type": "code",
   "execution_count": 10,
   "metadata": {},
   "outputs": [
    {
     "name": "stdout",
     "output_type": "stream",
     "text": [
      "(1993, 7)\n"
     ]
    }
   ],
   "source": [
    "vicon_sample = vicon[ind_sample] #pqrw\n",
    "vicon_sample[:,[3,6]] = vicon_sample[:,[6,3]] #wpqr\n",
    "print(vicon_sample.shape)"
   ]
  },
  {
   "cell_type": "code",
   "execution_count": 63,
   "metadata": {},
   "outputs": [
    {
     "name": "stdout",
     "output_type": "stream",
     "text": [
      "torch.Size([1993, 3])\n"
     ]
    }
   ],
   "source": [
    "vs_eul_r = tgm.quaternion_to_angle_axis(torch.Tensor(vicon_sample[:,3:]).to(device))\n",
    "print(vs_eul_r.shape)"
   ]
  },
  {
   "cell_type": "code",
   "execution_count": 64,
   "metadata": {},
   "outputs": [
    {
     "name": "stdout",
     "output_type": "stream",
     "text": [
      "torch.Size([1993, 3])\n"
     ]
    }
   ],
   "source": [
    "vs_eul_t = torch.Tensor(vicon_sample[:,:3]).to(device)\n",
    "print(vs_eul_t.shape)"
   ]
  },
  {
   "cell_type": "code",
   "execution_count": 65,
   "metadata": {},
   "outputs": [
    {
     "name": "stdout",
     "output_type": "stream",
     "text": [
      "torch.Size([1993, 6])\n"
     ]
    }
   ],
   "source": [
    "vs_eul = torch.cat([vs_eul_t, vs_eul_r], dim=1)\n",
    "print(vs_eul.shape)"
   ]
  },
  {
   "cell_type": "code",
   "execution_count": 66,
   "metadata": {},
   "outputs": [
    {
     "name": "stdout",
     "output_type": "stream",
     "text": [
      "torch.Size([1993, 4, 4])\n"
     ]
    }
   ],
   "source": [
    "vs_tform = tgm.rtvec_to_pose(vs_eul)\n",
    "print(vs_tform.shape)"
   ]
  },
  {
   "cell_type": "code",
   "execution_count": 67,
   "metadata": {},
   "outputs": [
    {
     "name": "stdout",
     "output_type": "stream",
     "text": [
      "torch.Size([1993, 3, 4])\n"
     ]
    }
   ],
   "source": [
    "vs_tform = vs_tform[:,:3,:]\n",
    "print(vs_tform.shape)"
   ]
  },
  {
   "cell_type": "code",
   "execution_count": 68,
   "metadata": {},
   "outputs": [
    {
     "name": "stdout",
     "output_type": "stream",
     "text": [
      "torch.Size([1993, 12])\n"
     ]
    }
   ],
   "source": [
    "vs_tform_flat = vs_tform.flatten(start_dim=1)\n",
    "print(vs_tform_flat.shape)"
   ]
  },
  {
   "cell_type": "code",
   "execution_count": 69,
   "metadata": {},
   "outputs": [
    {
     "name": "stdout",
     "output_type": "stream",
     "text": [
      "(1993, 12)\n"
     ]
    }
   ],
   "source": [
    "np_vs_tform_flat = vs_tform_flat.cpu().numpy()\n",
    "print(np_vs_tform_flat.shape)"
   ]
  },
  {
   "cell_type": "code",
   "execution_count": 70,
   "metadata": {},
   "outputs": [],
   "source": [
    "np.savetxt('vicon-gt-test1.csv', np_vs_tform_flat, delimiter=',')"
   ]
  },
  {
   "cell_type": "code",
   "execution_count": 11,
   "metadata": {},
   "outputs": [],
   "source": [
    "# Save xyz only\n",
    "np.savetxt('vicon-gt-test1-xyz.csv', vicon_sample[:,:3], delimiter=',')"
   ]
  },
  {
   "cell_type": "markdown",
   "metadata": {},
   "source": [
    "# Check quaternion conversion"
   ]
  },
  {
   "cell_type": "code",
   "execution_count": 72,
   "metadata": {},
   "outputs": [
    {
     "name": "stdout",
     "output_type": "stream",
     "text": [
      "torch.Size([1993, 4])\n"
     ]
    }
   ],
   "source": [
    "vs_q_r = tgm.angle_axis_to_quaternion(vs_eul_r)\n",
    "print(vs_q_r.shape)"
   ]
  },
  {
   "cell_type": "code",
   "execution_count": 73,
   "metadata": {},
   "outputs": [
    {
     "name": "stdout",
     "output_type": "stream",
     "text": [
      "tensor([ 0.9867,  0.0271,  0.1587, -0.0237], device='cuda:0')\n",
      "[-1.29174713  3.06130484  0.78150638  0.98666533  0.02710472  0.15872805\n",
      " -0.02371204]\n"
     ]
    }
   ],
   "source": [
    "# the both must be equal\n",
    "print(vs_q_r[0])\n",
    "print(vicon_sample[0])"
   ]
  },
  {
   "cell_type": "code",
   "execution_count": null,
   "metadata": {},
   "outputs": [],
   "source": []
  }
 ],
 "metadata": {
  "kernelspec": {
   "display_name": "Python [conda env:pytorch17]",
   "language": "python",
   "name": "conda-env-pytorch17-py"
  },
  "language_info": {
   "codemirror_mode": {
    "name": "ipython",
    "version": 3
   },
   "file_extension": ".py",
   "mimetype": "text/x-python",
   "name": "python",
   "nbconvert_exporter": "python",
   "pygments_lexer": "ipython3",
   "version": "3.7.9"
  }
 },
 "nbformat": 4,
 "nbformat_minor": 4
}

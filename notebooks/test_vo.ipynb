{
 "cells": [
  {
   "cell_type": "code",
   "execution_count": 1,
   "metadata": {},
   "outputs": [],
   "source": [
    "import sys\n",
    "sys.path.append('..')"
   ]
  },
  {
   "cell_type": "code",
   "execution_count": 16,
   "metadata": {},
   "outputs": [],
   "source": [
    "import torch\n",
    "\n",
    "import numpy as np\n",
    "\n",
    "import models\n",
    "import custom_transforms\n",
    "from datasets.sequence_folders import SequenceFolder\n",
    "from radar_eval.eval_utils import RadarEvalOdom\n",
    "import conversions as tgm\n",
    "\n",
    "import matplotlib.pyplot as plt"
   ]
  },
  {
   "cell_type": "code",
   "execution_count": 3,
   "metadata": {},
   "outputs": [
    {
     "name": "stdout",
     "output_type": "stream",
     "text": [
      "cuda\n"
     ]
    },
    {
     "data": {
      "text/plain": [
       "'TITAN V'"
      ]
     },
     "execution_count": 3,
     "metadata": {},
     "output_type": "execute_result"
    }
   ],
   "source": [
    "device = torch.device(\"cuda\") if torch.cuda.is_available() else torch.device(\"cpu\")\n",
    "print(device)\n",
    "torch.cuda.get_device_name(0)"
   ]
  },
  {
   "cell_type": "code",
   "execution_count": 4,
   "metadata": {
    "collapsed": true,
    "jupyter": {
     "outputs_hidden": true
    }
   },
   "outputs": [
    {
     "data": {
      "text/plain": [
       "PoseResNet(\n",
       "  (encoder): ResnetEncoder(\n",
       "    (encoder): ResNetMultiImageInput(\n",
       "      (conv1): Conv2d(2, 64, kernel_size=(7, 7), stride=(2, 2), padding=(3, 3), bias=False)\n",
       "      (bn1): BatchNorm2d(64, eps=1e-05, momentum=0.1, affine=True, track_running_stats=True)\n",
       "      (relu): ReLU(inplace=True)\n",
       "      (maxpool): MaxPool2d(kernel_size=3, stride=2, padding=1, dilation=1, ceil_mode=False)\n",
       "      (layer1): Sequential(\n",
       "        (0): BasicBlock(\n",
       "          (conv1): Conv2d(64, 64, kernel_size=(3, 3), stride=(1, 1), padding=(1, 1), bias=False)\n",
       "          (bn1): BatchNorm2d(64, eps=1e-05, momentum=0.1, affine=True, track_running_stats=True)\n",
       "          (relu): ReLU(inplace=True)\n",
       "          (conv2): Conv2d(64, 64, kernel_size=(3, 3), stride=(1, 1), padding=(1, 1), bias=False)\n",
       "          (bn2): BatchNorm2d(64, eps=1e-05, momentum=0.1, affine=True, track_running_stats=True)\n",
       "        )\n",
       "        (1): BasicBlock(\n",
       "          (conv1): Conv2d(64, 64, kernel_size=(3, 3), stride=(1, 1), padding=(1, 1), bias=False)\n",
       "          (bn1): BatchNorm2d(64, eps=1e-05, momentum=0.1, affine=True, track_running_stats=True)\n",
       "          (relu): ReLU(inplace=True)\n",
       "          (conv2): Conv2d(64, 64, kernel_size=(3, 3), stride=(1, 1), padding=(1, 1), bias=False)\n",
       "          (bn2): BatchNorm2d(64, eps=1e-05, momentum=0.1, affine=True, track_running_stats=True)\n",
       "        )\n",
       "      )\n",
       "      (layer2): Sequential(\n",
       "        (0): BasicBlock(\n",
       "          (conv1): Conv2d(64, 128, kernel_size=(3, 3), stride=(2, 2), padding=(1, 1), bias=False)\n",
       "          (bn1): BatchNorm2d(128, eps=1e-05, momentum=0.1, affine=True, track_running_stats=True)\n",
       "          (relu): ReLU(inplace=True)\n",
       "          (conv2): Conv2d(128, 128, kernel_size=(3, 3), stride=(1, 1), padding=(1, 1), bias=False)\n",
       "          (bn2): BatchNorm2d(128, eps=1e-05, momentum=0.1, affine=True, track_running_stats=True)\n",
       "          (downsample): Sequential(\n",
       "            (0): Conv2d(64, 128, kernel_size=(1, 1), stride=(2, 2), bias=False)\n",
       "            (1): BatchNorm2d(128, eps=1e-05, momentum=0.1, affine=True, track_running_stats=True)\n",
       "          )\n",
       "        )\n",
       "        (1): BasicBlock(\n",
       "          (conv1): Conv2d(128, 128, kernel_size=(3, 3), stride=(1, 1), padding=(1, 1), bias=False)\n",
       "          (bn1): BatchNorm2d(128, eps=1e-05, momentum=0.1, affine=True, track_running_stats=True)\n",
       "          (relu): ReLU(inplace=True)\n",
       "          (conv2): Conv2d(128, 128, kernel_size=(3, 3), stride=(1, 1), padding=(1, 1), bias=False)\n",
       "          (bn2): BatchNorm2d(128, eps=1e-05, momentum=0.1, affine=True, track_running_stats=True)\n",
       "        )\n",
       "      )\n",
       "      (layer3): Sequential(\n",
       "        (0): BasicBlock(\n",
       "          (conv1): Conv2d(128, 256, kernel_size=(3, 3), stride=(2, 2), padding=(1, 1), bias=False)\n",
       "          (bn1): BatchNorm2d(256, eps=1e-05, momentum=0.1, affine=True, track_running_stats=True)\n",
       "          (relu): ReLU(inplace=True)\n",
       "          (conv2): Conv2d(256, 256, kernel_size=(3, 3), stride=(1, 1), padding=(1, 1), bias=False)\n",
       "          (bn2): BatchNorm2d(256, eps=1e-05, momentum=0.1, affine=True, track_running_stats=True)\n",
       "          (downsample): Sequential(\n",
       "            (0): Conv2d(128, 256, kernel_size=(1, 1), stride=(2, 2), bias=False)\n",
       "            (1): BatchNorm2d(256, eps=1e-05, momentum=0.1, affine=True, track_running_stats=True)\n",
       "          )\n",
       "        )\n",
       "        (1): BasicBlock(\n",
       "          (conv1): Conv2d(256, 256, kernel_size=(3, 3), stride=(1, 1), padding=(1, 1), bias=False)\n",
       "          (bn1): BatchNorm2d(256, eps=1e-05, momentum=0.1, affine=True, track_running_stats=True)\n",
       "          (relu): ReLU(inplace=True)\n",
       "          (conv2): Conv2d(256, 256, kernel_size=(3, 3), stride=(1, 1), padding=(1, 1), bias=False)\n",
       "          (bn2): BatchNorm2d(256, eps=1e-05, momentum=0.1, affine=True, track_running_stats=True)\n",
       "        )\n",
       "      )\n",
       "      (layer4): Sequential(\n",
       "        (0): BasicBlock(\n",
       "          (conv1): Conv2d(256, 512, kernel_size=(3, 3), stride=(2, 2), padding=(1, 1), bias=False)\n",
       "          (bn1): BatchNorm2d(512, eps=1e-05, momentum=0.1, affine=True, track_running_stats=True)\n",
       "          (relu): ReLU(inplace=True)\n",
       "          (conv2): Conv2d(512, 512, kernel_size=(3, 3), stride=(1, 1), padding=(1, 1), bias=False)\n",
       "          (bn2): BatchNorm2d(512, eps=1e-05, momentum=0.1, affine=True, track_running_stats=True)\n",
       "          (downsample): Sequential(\n",
       "            (0): Conv2d(256, 512, kernel_size=(1, 1), stride=(2, 2), bias=False)\n",
       "            (1): BatchNorm2d(512, eps=1e-05, momentum=0.1, affine=True, track_running_stats=True)\n",
       "          )\n",
       "        )\n",
       "        (1): BasicBlock(\n",
       "          (conv1): Conv2d(512, 512, kernel_size=(3, 3), stride=(1, 1), padding=(1, 1), bias=False)\n",
       "          (bn1): BatchNorm2d(512, eps=1e-05, momentum=0.1, affine=True, track_running_stats=True)\n",
       "          (relu): ReLU(inplace=True)\n",
       "          (conv2): Conv2d(512, 512, kernel_size=(3, 3), stride=(1, 1), padding=(1, 1), bias=False)\n",
       "          (bn2): BatchNorm2d(512, eps=1e-05, momentum=0.1, affine=True, track_running_stats=True)\n",
       "        )\n",
       "      )\n",
       "      (avgpool): AdaptiveAvgPool2d(output_size=(1, 1))\n",
       "      (fc): Linear(in_features=512, out_features=1000, bias=True)\n",
       "    )\n",
       "  )\n",
       "  (decoder): PoseDecoder(\n",
       "    (relu): ReLU()\n",
       "    (dropout1): Dropout2d(p=0.25, inplace=False)\n",
       "    (fc_t1): Linear(in_features=90624, out_features=128, bias=True)\n",
       "    (fc_t2): Linear(in_features=128, out_features=3, bias=True)\n",
       "    (fc_r1): Linear(in_features=90624, out_features=128, bias=True)\n",
       "    (fc_r2): Linear(in_features=128, out_features=3, bias=True)\n",
       "    (net): ModuleList(\n",
       "      (0): Conv2d(512, 256, kernel_size=(1, 1), stride=(1, 1))\n",
       "      (1): Conv2d(256, 256, kernel_size=(3, 3), stride=(1, 1), padding=(1, 1))\n",
       "      (2): Conv2d(256, 256, kernel_size=(3, 3), stride=(1, 1), padding=(1, 1))\n",
       "      (3): Conv2d(256, 256, kernel_size=(3, 3), stride=(1, 1), padding=(1, 1))\n",
       "    )\n",
       "  )\n",
       ")"
      ]
     },
     "execution_count": 4,
     "metadata": {},
     "output_type": "execute_result"
    }
   ],
   "source": [
    "weights_pose = torch.load(\"../checkpoints/resnet50_depth_256/02-15-20-41/exp_pose_checkpoint.pth.tar\")\n",
    "pose_net = models.PoseResNet(18).to(device)\n",
    "pose_net.load_state_dict(weights_pose['state_dict'], strict=False)\n",
    "pose_net.eval()"
   ]
  },
  {
   "cell_type": "code",
   "execution_count": 5,
   "metadata": {},
   "outputs": [],
   "source": [
    "# Data loading code\n",
    "mean, std = 11.49, 16.46 #robotcar\n",
    "# mean, std = 119.4501, 6.5258 # Calculated over all dataset\n",
    "normalize = custom_transforms.Normalize(mean=mean, std=std)\n",
    "\n",
    "# train_transform = custom_transforms.Compose([\n",
    "#     custom_transforms.RandomHorizontalFlip(),\n",
    "#     custom_transforms.RandomScaleCrop(),\n",
    "#     custom_transforms.ArrayToTensor(),\n",
    "#     normalize\n",
    "# ])\n",
    "\n",
    "ds_transform = custom_transforms.Compose([custom_transforms.ArrayToTensor(), normalize])\n",
    "\n",
    "k=1\n",
    "val_set = SequenceFolder(\n",
    "        '/mnt/datasets/yasin/robotcar',\n",
    "        transform=ds_transform,\n",
    "        seed=12344,\n",
    "        train=False,\n",
    "        sequence_length=3,\n",
    "        skip_frames=k,\n",
    "        dataset='driving'\n",
    "    )\n",
    "\n",
    "val_loader = torch.utils.data.DataLoader(\n",
    "        val_set, batch_size=2, shuffle=False,\n",
    "        num_workers=2, pin_memory=True)"
   ]
  },
  {
   "cell_type": "code",
   "execution_count": 8,
   "metadata": {},
   "outputs": [],
   "source": [
    "vo_eval = RadarEvalOdom('/mnt/datasets/yasin/records2-23mart2020/vicon-data-subsampled/vicon-gt-test1.csv')"
   ]
  },
  {
   "cell_type": "code",
   "execution_count": 6,
   "metadata": {},
   "outputs": [],
   "source": [
    "def compute_pose_with_inv(pose_net, tgt_img, ref_imgs):\n",
    "    poses = []\n",
    "    poses_inv = []\n",
    "    for ref_img in ref_imgs:\n",
    "        poses.append(pose_net(tgt_img, ref_img))\n",
    "        poses_inv.append(pose_net(ref_img, tgt_img))\n",
    "\n",
    "    return torch.stack(poses), torch.stack(poses_inv)"
   ]
  },
  {
   "cell_type": "code",
   "execution_count": 90,
   "metadata": {},
   "outputs": [],
   "source": [
    "all_poses = []\n",
    "all_inv_poses = []\n",
    "\n",
    "with torch.no_grad():\n",
    "    for i, (tgt_img, ref_imgs) in enumerate(val_loader):\n",
    "        #(tgt_img, ref_imgs) = val_it.next()\n",
    "\n",
    "        tgt_img = tgt_img.to(device)\n",
    "        ref_imgs = [img.to(device) for img in ref_imgs]\n",
    "\n",
    "        poses, poses_inv = compute_pose_with_inv(pose_net, tgt_img, ref_imgs)\n",
    "\n",
    "        all_poses.append(poses)\n",
    "        all_inv_poses.append(poses_inv)\n",
    "\n",
    "        # gc.collect()\n",
    "        # torch.cuda.empty_cache()\n",
    "    "
   ]
  },
  {
   "cell_type": "code",
   "execution_count": 91,
   "metadata": {},
   "outputs": [
    {
     "name": "stdout",
     "output_type": "stream",
     "text": [
      "1125\n"
     ]
    }
   ],
   "source": [
    "print(len(all_poses))"
   ]
  },
  {
   "cell_type": "code",
   "execution_count": 103,
   "metadata": {},
   "outputs": [],
   "source": [
    "def getTraj(all_poses, all_inv_poses, k):\n",
    "    \"\"\"Convert the predicted poses to absolute trajectory. Each prediction in inputs is the relative pose for a sequence of [src_p, tgt, src_n].\n",
    "    We form a trajectory from a chained sequence with k skip frames, e.g. [k, 2*k, 3*k, ..., N]. We shift the sequence by {i:i<k} to evaluate the full prediction.\n",
    "\n",
    "    Args:\n",
    "        all_poses (list): Predicted relative pose values for each src-to-tgt pair. List of torch.Tensor objects size [seq_length, B, 6]. rtvec=[rx, ry, rz, tx, ty, tz]\n",
    "        all_inv_poses (list): Predicted relative pose values for each tgt-to-src pair. List of torch.Tensor objects.\n",
    "        k (int): Skip frames. rtvec=[rx, ry, rz, tx, ty, tz]\n",
    "\n",
    "    Returns:\n",
    "        torch.Tensor: Backward and forward predicted trajectories\n",
    "    \"\"\"\n",
    "\n",
    "    # pred = torch.zeros(self.gt.size(), dtype=self.gt.dtype, device = self.gt.device)\n",
    "    all_poses_t = torch.cat(all_poses, 1) # [seq_length, N, 6]\n",
    "    all_inv_poses_t = torch.cat(all_inv_poses, 1) # [seq_length, N, 6]\n",
    "    \n",
    "    #all_poses_t[:,:,0]=0.0\n",
    "    #all_poses_t[:,:,1]=0.0\n",
    "    #all_poses_t[:,:,5]=0.0\n",
    "\n",
    "    N = all_poses_t.shape[1] #len(all_poses) # number of sequences\n",
    "\n",
    "    i=0\n",
    "    # for i in range(k):\n",
    "    idx = torch.arange(i, N, k)\n",
    "    \n",
    "    # Previous src\n",
    "    # TODO: Şimdilik forward pose alalım. ileride (forward-backward)/2 olmalı\n",
    "    # b_pose = (all_poses_t[0, idx] - all_inv_poses_t[0, idx])/2 # (src2tgt + inv(tgt2src))/2 [n,6]\n",
    "    b_pose = all_poses_t[0, idx] #src2tgt [n,6]\n",
    "    b_pose = -b_pose # tgt2src [n,6]\n",
    "    b_pose = tgm.rtvec_to_pose(b_pose) # tgt2src [n,4,4]\n",
    "    # b_pose = tgm.inv_rigid_tform(b_pose) # tgt2src [n,4,4]\n",
    "    \n",
    "    # b_inv_pose = tgm.rtvec_to_pose(all_inv_poses_t[0, idx]) # inv(src2tgt) [n,4,4]            \n",
    "    b_pose = rel2abs_traj(b_pose) # [n,4,4]\n",
    "    # b_pose = b_pose.cumsum(dim=0) # [n,6] \n",
    "\n",
    "    # Next src\n",
    "    # f_pose = tgm.rtvec_to_pose(all_poses_t[1, idx]) # tgt2src [n,4,4]\n",
    "    # f_inv_pose = tgm.rtvec_to_pose(all_inv_poses_t[1, idx]) # inv(tgt2src) [n,4,4]\n",
    "    # f_inv_pose = tgm.inv_rigid_tform(f_inv_pose) # inv(inv(tgt2src)) [n,4,4]\n",
    "    # f_pose = (f_pose + f_inv_pose)/2 # (tgt2src + inv(inv(tgt2src)))/2 [n,4,4]\n",
    "    # f_pose = rel2abs_traj(f_pose)\n",
    "    # f_pose = (all_poses_t[1, idx] - all_inv_poses_t[0, idx])/2 # (src2tgt + inv(tgt2src))/2 [n,6]\n",
    "    f_pose = all_poses_t[1, idx] #src2tgt [n,6]\n",
    "    # f_pose = -f_pose # tgt2src [n,6]\n",
    "    # f_pose = f_pose.cumsum(dim=0) # [n,6]\n",
    "    f_pose = tgm.rtvec_to_pose(f_pose) # src2tgt [n,4,4]\n",
    "    f_pose = rel2abs_traj(f_pose) # [n,4,4]\n",
    "    # end for\n",
    "\n",
    "    f_xyz = f_pose[:,:3,3]\n",
    "    b_xyz = b_pose[:,:3,3]\n",
    "    return b_xyz.squeeze(), f_xyz.squeeze()\n",
    "\n",
    "def rel2abs_traj_old(rel_pose):\n",
    "    \"\"\"Convert a given relative pose sequences to absolute pose sequences.\n",
    "\n",
    "    Args:\n",
    "        rel_pose (torch.Tensor): Relative pose sequence in the form of homogenous transformation matrix. Shape: [N,4,4]\n",
    "\n",
    "    Returns:\n",
    "        torch.Tensor: Absolute pose sequence in the form of homogenous transformation matrix. Shape: [N,4,4]\n",
    "    \"\"\"\n",
    "\n",
    "    abs_pose = rel_pose.clone()\n",
    "    for i in range(1,abs_pose.shape[0]):\n",
    "        abs_pose[i] = abs_pose[i] @ abs_pose[i-1]\n",
    "\n",
    "    return abs_pose\n",
    "\n",
    "def rel2abs_traj(rel_pose):\n",
    "    \"\"\"Convert a given relative pose sequences to absolute pose sequences.\n",
    "\n",
    "    Args:\n",
    "        rel_pose (torch.Tensor): Relative pose sequence in the form of homogenous transformation matrix. Shape: [N,4,4]\n",
    "\n",
    "    Returns:\n",
    "        torch.Tensor: Absolute pose sequence in the form of homogenous transformation matrix. Shape: [N,4,4]\n",
    "    \"\"\"\n",
    "    global_pose = torch.eye(4).to(device)\n",
    "    abs_pose = torch.zeros_like(rel_pose)    \n",
    "    for i in range(rel_pose.shape[0]):\n",
    "        global_pose = global_pose @ rel_pose[i]\n",
    "        abs_pose[i] = global_pose\n",
    "\n",
    "    return abs_pose\n"
   ]
  },
  {
   "cell_type": "code",
   "execution_count": 104,
   "metadata": {},
   "outputs": [],
   "source": [
    "b_pred_xyz, f_pred_xyz = getTraj(all_poses, all_inv_poses, k)"
   ]
  },
  {
   "cell_type": "code",
   "execution_count": 105,
   "metadata": {},
   "outputs": [
    {
     "name": "stdout",
     "output_type": "stream",
     "text": [
      "torch.Size([2249, 3])\n"
     ]
    }
   ],
   "source": [
    "print(f_pred_xyz.shape)"
   ]
  },
  {
   "cell_type": "code",
   "execution_count": 106,
   "metadata": {},
   "outputs": [
    {
     "data": {
      "text/plain": [
       "[<matplotlib.lines.Line2D at 0x7f638fad84d0>]"
      ]
     },
     "execution_count": 106,
     "metadata": {},
     "output_type": "execute_result"
    },
    {
     "data": {
      "image/png": "[encoded data removed]",
      "text/plain": [
       "<Figure size 432x288 with 1 Axes>"
      ]
     },
     "metadata": {
      "needs_background": "light"
     },
     "output_type": "display_data"
    }
   ],
   "source": [
    "%matplotlib inline\n",
    "plt.plot(f_pred_xyz[:,0].cpu().numpy(), f_pred_xyz[:,1].cpu().numpy())"
   ]
  },
  {
   "cell_type": "markdown",
   "metadata": {},
   "source": [
    "# All pose analysis"
   ]
  },
  {
   "cell_type": "code",
   "execution_count": 96,
   "metadata": {},
   "outputs": [],
   "source": [
    "all_poses_t = torch.cat(all_poses, 1) # [seq_length, N, 6]\n",
    "all_inv_poses_t = torch.cat(all_inv_poses, 1) # [seq_length, N, 6]"
   ]
  },
  {
   "cell_type": "code",
   "execution_count": 97,
   "metadata": {},
   "outputs": [
    {
     "name": "stdout",
     "output_type": "stream",
     "text": [
      "torch.Size([2, 2249, 6])\n"
     ]
    }
   ],
   "source": [
    "print(all_poses_t.shape)"
   ]
  },
  {
   "cell_type": "code",
   "execution_count": 98,
   "metadata": {},
   "outputs": [
    {
     "name": "stdout",
     "output_type": "stream",
     "text": [
      "tensor([[-4.5480, -0.9084, -1.1399,  0.1761, -0.0109, -0.1477],\n",
      "        [-4.5480, -0.9084, -1.1399,  0.1761, -0.0109, -0.1477],\n",
      "        [-4.5480, -0.9084, -1.1399,  0.1761, -0.0109, -0.1477],\n",
      "        [-4.5480, -0.9084, -1.1399,  0.1761, -0.0109, -0.1477],\n",
      "        [-4.5480, -0.9084, -1.1399,  0.1761, -0.0109, -0.1477]],\n",
      "       device='cuda:0')\n",
      "tensor([[-4.5480, -0.9084, -1.1399,  0.1761, -0.0109, -0.1477],\n",
      "        [-4.5480, -0.9084, -1.1399,  0.1761, -0.0109, -0.1477],\n",
      "        [-4.5480, -0.9084, -1.1399,  0.1761, -0.0109, -0.1477],\n",
      "        [-4.5480, -0.9084, -1.1399,  0.1761, -0.0109, -0.1477],\n",
      "        [-4.5480, -0.9084, -1.1399,  0.1761, -0.0109, -0.1477]],\n",
      "       device='cuda:0')\n"
     ]
    }
   ],
   "source": [
    "print(all_poses_t[0,:5])\n",
    "print(all_inv_poses_t[0,:5])"
   ]
  },
  {
   "cell_type": "code",
   "execution_count": 15,
   "metadata": {},
   "outputs": [],
   "source": [
    "N = all_poses_t.shape[1]"
   ]
  },
  {
   "cell_type": "code",
   "execution_count": 19,
   "metadata": {},
   "outputs": [],
   "source": [
    "ate_bs = []\n",
    "ate_fs = []\n",
    "\n",
    "i=0\n",
    "#for i in range(k):\n",
    "\n",
    "idx = torch.arange(i, N, k)\n",
    "            \n"
   ]
  },
  {
   "cell_type": "code",
   "execution_count": 22,
   "metadata": {},
   "outputs": [
    {
     "name": "stdout",
     "output_type": "stream",
     "text": [
      "tensor([ 0.0314, -0.0452,  0.0081,  0.0153,  0.0062,  0.0026], device='cuda:0')\n"
     ]
    }
   ],
   "source": [
    "print(all_poses_t[0, 0])"
   ]
  },
  {
   "cell_type": "code",
   "execution_count": 30,
   "metadata": {},
   "outputs": [],
   "source": [
    "# Previous src\n",
    "b_pose = all_poses_t[1, idx]\n"
   ]
  },
  {
   "cell_type": "code",
   "execution_count": 31,
   "metadata": {},
   "outputs": [
    {
     "name": "stdout",
     "output_type": "stream",
     "text": [
      "torch.Size([98, 6])\n",
      "tensor([ 0.0220, -0.0847,  0.0087,  0.0214,  0.0090,  0.0085], device='cuda:0')\n"
     ]
    }
   ],
   "source": [
    "print(b_pose.shape)\n",
    "print(b_pose[0])"
   ]
  },
  {
   "cell_type": "code",
   "execution_count": 32,
   "metadata": {},
   "outputs": [],
   "source": [
    "b_pose = b_pose.cumsum(dim=0) # [n,6]"
   ]
  },
  {
   "cell_type": "code",
   "execution_count": 33,
   "metadata": {},
   "outputs": [
    {
     "name": "stdout",
     "output_type": "stream",
     "text": [
      "torch.Size([98, 6])\n",
      "tensor([ 0.0220, -0.0847,  0.0087,  0.0214,  0.0090,  0.0085], device='cuda:0')\n"
     ]
    }
   ],
   "source": [
    "print(b_pose.shape)\n",
    "print(b_pose[0])"
   ]
  },
  {
   "cell_type": "code",
   "execution_count": 34,
   "metadata": {},
   "outputs": [
    {
     "data": {
      "text/plain": [
       "[<matplotlib.lines.Line2D at 0x7f68d0851490>]"
      ]
     },
     "execution_count": 34,
     "metadata": {},
     "output_type": "execute_result"
    },
    {
     "data": {
      "image/png": "[encoded data removed]",
      "text/plain": [
       "<Figure size 432x288 with 1 Axes>"
      ]
     },
     "metadata": {
      "needs_background": "light"
     },
     "output_type": "display_data"
    }
   ],
   "source": [
    "%matplotlib inline\n",
    "plt.plot(b_pose[:,3].cpu().numpy(), b_pose[:,4].cpu().numpy())"
   ]
  },
  {
   "cell_type": "markdown",
   "metadata": {},
   "source": [
    "# tgm tests"
   ]
  },
  {
   "cell_type": "code",
   "execution_count": 81,
   "metadata": {},
   "outputs": [],
   "source": [
    "f_pose = torch.Tensor([\n",
    "    [0,0,0,0,0,0],\n",
    "    [0,0,0,2.0,0,0],\n",
    "    [0,0,0,0,2,0],\n",
    "    [0,0,1.57,0,0,0],\n",
    "    [0,0,0,0,2,0]    \n",
    "])"
   ]
  },
  {
   "cell_type": "code",
   "execution_count": 82,
   "metadata": {},
   "outputs": [],
   "source": [
    "f_pose = tgm.rtvec_to_pose(f_pose)\n",
    "f_pose = rel2abs_traj2(f_pose) # [n,4,4]"
   ]
  },
  {
   "cell_type": "code",
   "execution_count": 83,
   "metadata": {},
   "outputs": [
    {
     "name": "stdout",
     "output_type": "stream",
     "text": [
      "tensor([[0.0000e+00, 0.0000e+00, 0.0000e+00],\n",
      "        [2.0000e+00, 0.0000e+00, 0.0000e+00],\n",
      "        [2.0000e+00, 2.0000e+00, 0.0000e+00],\n",
      "        [2.0000e+00, 2.0000e+00, 0.0000e+00],\n",
      "        [1.7881e-06, 2.0016e+00, 0.0000e+00]])\n"
     ]
    }
   ],
   "source": [
    "f_xyz = f_pose[:,:3,3]\n",
    "print(f_xyz)"
   ]
  },
  {
   "cell_type": "code",
   "execution_count": 84,
   "metadata": {},
   "outputs": [
    {
     "data": {
      "text/plain": [
       "Text(0.5, 0, 'x')"
      ]
     },
     "execution_count": 84,
     "metadata": {},
     "output_type": "execute_result"
    },
    {
     "data": {
      "image/png": "[encoded data removed]",
      "text/plain": [
       "<Figure size 432x288 with 1 Axes>"
      ]
     },
     "metadata": {
      "needs_background": "light"
     },
     "output_type": "display_data"
    }
   ],
   "source": [
    "%matplotlib inline\n",
    "plt.plot(f_xyz[:,0].cpu().numpy(), f_xyz[:,1].cpu().numpy())\n",
    "plt.xlabel('x')"
   ]
  },
  {
   "cell_type": "code",
   "execution_count": null,
   "metadata": {},
   "outputs": [],
   "source": []
  }
 ],
 "metadata": {
  "kernelspec": {
   "display_name": "Python [conda env:pytorch17]",
   "language": "python",
   "name": "conda-env-pytorch17-py"
  },
  "language_info": {
   "codemirror_mode": {
    "name": "ipython",
    "version": 3
   },
   "file_extension": ".py",
   "mimetype": "text/x-python",
   "name": "python",
   "nbconvert_exporter": "python",
   "pygments_lexer": "ipython3",
   "version": "3.7.9"
  }
 },
 "nbformat": 4,
 "nbformat_minor": 4
}

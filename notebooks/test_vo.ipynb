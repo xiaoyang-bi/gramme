{
 "cells": [
  {
   "cell_type": "code",
   "execution_count": 12,
   "metadata": {},
   "outputs": [],
   "source": [
    "import sys\n",
    "sys.path.append('..')"
   ]
  },
  {
   "cell_type": "code",
   "execution_count": 13,
   "metadata": {},
   "outputs": [],
   "source": [
    "import time\n",
    "\n",
    "import torch\n",
    "\n",
    "import numpy as np\n",
    "import matplotlib.pyplot as plt\n",
    "import seaborn as sn\n",
    "\n",
    "import models\n",
    "import custom_transforms\n",
    "from datasets.sequence_folders import SequenceFolder\n",
    "from radar_eval.eval_utils import RadarEvalOdom\n",
    "import conversions as tgm"
   ]
  },
  {
   "cell_type": "code",
   "execution_count": 14,
   "metadata": {},
   "outputs": [],
   "source": [
    "#sns.set(style=\\\"whitegrid\\\", rc={\\\"font.size\\\":8,\\\"axes.titlesize\\\":8,\\\"axes.labelsize\\\":5})\n",
    "sn.set(style=\"whitegrid\", font_scale=1.5)\n",
    "sn.set_palette(\"bright\", n_colors=4, color_codes=True)"
   ]
  },
  {
   "cell_type": "code",
   "execution_count": 15,
   "metadata": {},
   "outputs": [
    {
     "name": "stdout",
     "output_type": "stream",
     "text": [
      "cuda\n"
     ]
    },
    {
     "data": {
      "text/plain": [
       "'TITAN V'"
      ]
     },
     "execution_count": 15,
     "metadata": {},
     "output_type": "execute_result"
    }
   ],
   "source": [
    "device = torch.device(\"cuda\") if torch.cuda.is_available() else torch.device(\"cpu\")\n",
    "print(device)\n",
    "torch.cuda.get_device_name(0)"
   ]
  },
  {
   "cell_type": "code",
   "execution_count": 33,
   "metadata": {
    "collapsed": true,
    "jupyter": {
     "outputs_hidden": true
    }
   },
   "outputs": [
    {
     "data": {
      "text/plain": [
       "PoseResNet(\n",
       "  (encoder): ResnetEncoder(\n",
       "    (encoder): ResNetMultiImageInput(\n",
       "      (conv1): Conv2d(2, 64, kernel_size=(7, 7), stride=(2, 2), padding=(3, 3), bias=False)\n",
       "      (bn1): BatchNorm2d(64, eps=1e-05, momentum=0.1, affine=True, track_running_stats=True)\n",
       "      (relu): ReLU(inplace=True)\n",
       "      (maxpool): MaxPool2d(kernel_size=3, stride=2, padding=1, dilation=1, ceil_mode=False)\n",
       "      (layer1): Sequential(\n",
       "        (0): BasicBlock(\n",
       "          (conv1): Conv2d(64, 64, kernel_size=(3, 3), stride=(1, 1), padding=(1, 1), bias=False)\n",
       "          (bn1): BatchNorm2d(64, eps=1e-05, momentum=0.1, affine=True, track_running_stats=True)\n",
       "          (relu): ReLU(inplace=True)\n",
       "          (conv2): Conv2d(64, 64, kernel_size=(3, 3), stride=(1, 1), padding=(1, 1), bias=False)\n",
       "          (bn2): BatchNorm2d(64, eps=1e-05, momentum=0.1, affine=True, track_running_stats=True)\n",
       "        )\n",
       "        (1): BasicBlock(\n",
       "          (conv1): Conv2d(64, 64, kernel_size=(3, 3), stride=(1, 1), padding=(1, 1), bias=False)\n",
       "          (bn1): BatchNorm2d(64, eps=1e-05, momentum=0.1, affine=True, track_running_stats=True)\n",
       "          (relu): ReLU(inplace=True)\n",
       "          (conv2): Conv2d(64, 64, kernel_size=(3, 3), stride=(1, 1), padding=(1, 1), bias=False)\n",
       "          (bn2): BatchNorm2d(64, eps=1e-05, momentum=0.1, affine=True, track_running_stats=True)\n",
       "        )\n",
       "      )\n",
       "      (layer2): Sequential(\n",
       "        (0): BasicBlock(\n",
       "          (conv1): Conv2d(64, 128, kernel_size=(3, 3), stride=(2, 2), padding=(1, 1), bias=False)\n",
       "          (bn1): BatchNorm2d(128, eps=1e-05, momentum=0.1, affine=True, track_running_stats=True)\n",
       "          (relu): ReLU(inplace=True)\n",
       "          (conv2): Conv2d(128, 128, kernel_size=(3, 3), stride=(1, 1), padding=(1, 1), bias=False)\n",
       "          (bn2): BatchNorm2d(128, eps=1e-05, momentum=0.1, affine=True, track_running_stats=True)\n",
       "          (downsample): Sequential(\n",
       "            (0): Conv2d(64, 128, kernel_size=(1, 1), stride=(2, 2), bias=False)\n",
       "            (1): BatchNorm2d(128, eps=1e-05, momentum=0.1, affine=True, track_running_stats=True)\n",
       "          )\n",
       "        )\n",
       "        (1): BasicBlock(\n",
       "          (conv1): Conv2d(128, 128, kernel_size=(3, 3), stride=(1, 1), padding=(1, 1), bias=False)\n",
       "          (bn1): BatchNorm2d(128, eps=1e-05, momentum=0.1, affine=True, track_running_stats=True)\n",
       "          (relu): ReLU(inplace=True)\n",
       "          (conv2): Conv2d(128, 128, kernel_size=(3, 3), stride=(1, 1), padding=(1, 1), bias=False)\n",
       "          (bn2): BatchNorm2d(128, eps=1e-05, momentum=0.1, affine=True, track_running_stats=True)\n",
       "        )\n",
       "      )\n",
       "      (layer3): Sequential(\n",
       "        (0): BasicBlock(\n",
       "          (conv1): Conv2d(128, 256, kernel_size=(3, 3), stride=(2, 2), padding=(1, 1), bias=False)\n",
       "          (bn1): BatchNorm2d(256, eps=1e-05, momentum=0.1, affine=True, track_running_stats=True)\n",
       "          (relu): ReLU(inplace=True)\n",
       "          (conv2): Conv2d(256, 256, kernel_size=(3, 3), stride=(1, 1), padding=(1, 1), bias=False)\n",
       "          (bn2): BatchNorm2d(256, eps=1e-05, momentum=0.1, affine=True, track_running_stats=True)\n",
       "          (downsample): Sequential(\n",
       "            (0): Conv2d(128, 256, kernel_size=(1, 1), stride=(2, 2), bias=False)\n",
       "            (1): BatchNorm2d(256, eps=1e-05, momentum=0.1, affine=True, track_running_stats=True)\n",
       "          )\n",
       "        )\n",
       "        (1): BasicBlock(\n",
       "          (conv1): Conv2d(256, 256, kernel_size=(3, 3), stride=(1, 1), padding=(1, 1), bias=False)\n",
       "          (bn1): BatchNorm2d(256, eps=1e-05, momentum=0.1, affine=True, track_running_stats=True)\n",
       "          (relu): ReLU(inplace=True)\n",
       "          (conv2): Conv2d(256, 256, kernel_size=(3, 3), stride=(1, 1), padding=(1, 1), bias=False)\n",
       "          (bn2): BatchNorm2d(256, eps=1e-05, momentum=0.1, affine=True, track_running_stats=True)\n",
       "        )\n",
       "      )\n",
       "      (layer4): Sequential(\n",
       "        (0): BasicBlock(\n",
       "          (conv1): Conv2d(256, 512, kernel_size=(3, 3), stride=(2, 2), padding=(1, 1), bias=False)\n",
       "          (bn1): BatchNorm2d(512, eps=1e-05, momentum=0.1, affine=True, track_running_stats=True)\n",
       "          (relu): ReLU(inplace=True)\n",
       "          (conv2): Conv2d(512, 512, kernel_size=(3, 3), stride=(1, 1), padding=(1, 1), bias=False)\n",
       "          (bn2): BatchNorm2d(512, eps=1e-05, momentum=0.1, affine=True, track_running_stats=True)\n",
       "          (downsample): Sequential(\n",
       "            (0): Conv2d(256, 512, kernel_size=(1, 1), stride=(2, 2), bias=False)\n",
       "            (1): BatchNorm2d(512, eps=1e-05, momentum=0.1, affine=True, track_running_stats=True)\n",
       "          )\n",
       "        )\n",
       "        (1): BasicBlock(\n",
       "          (conv1): Conv2d(512, 512, kernel_size=(3, 3), stride=(1, 1), padding=(1, 1), bias=False)\n",
       "          (bn1): BatchNorm2d(512, eps=1e-05, momentum=0.1, affine=True, track_running_stats=True)\n",
       "          (relu): ReLU(inplace=True)\n",
       "          (conv2): Conv2d(512, 512, kernel_size=(3, 3), stride=(1, 1), padding=(1, 1), bias=False)\n",
       "          (bn2): BatchNorm2d(512, eps=1e-05, momentum=0.1, affine=True, track_running_stats=True)\n",
       "        )\n",
       "      )\n",
       "      (avgpool): AdaptiveAvgPool2d(output_size=(1, 1))\n",
       "      (fc): Linear(in_features=512, out_features=1000, bias=True)\n",
       "    )\n",
       "  )\n",
       "  (decoder): PoseDecoder(\n",
       "    (relu): ReLU()\n",
       "    (dropout1): Dropout2d(p=0.25, inplace=False)\n",
       "    (fc_t1): Linear(in_features=16384, out_features=128, bias=True)\n",
       "    (fc_t2): Linear(in_features=128, out_features=2, bias=True)\n",
       "    (fc_r1): Linear(in_features=16384, out_features=128, bias=True)\n",
       "    (fc_r2): Linear(in_features=128, out_features=1, bias=True)\n",
       "    (net): ModuleList(\n",
       "      (0): Conv2d(512, 256, kernel_size=(1, 1), stride=(1, 1))\n",
       "      (1): Conv2d(256, 256, kernel_size=(3, 3), stride=(1, 1), padding=(1, 1))\n",
       "      (2): Conv2d(256, 256, kernel_size=(3, 3), stride=(1, 1), padding=(1, 1))\n",
       "      (3): Conv2d(256, 256, kernel_size=(3, 3), stride=(1, 1), padding=(1, 1))\n",
       "    )\n",
       "  )\n",
       ")"
      ]
     },
     "execution_count": 33,
     "metadata": {},
     "output_type": "execute_result"
    }
   ],
   "source": [
    "weights_pose = torch.load(\"../checkpoints/resnet50_depth_256/02-19-08-37/exp_pose_checkpoint.pth.tar\")\n",
    "pose_net = models.PoseResNet(18).to(device)\n",
    "pose_net.load_state_dict(weights_pose['state_dict'], strict=False)\n",
    "pose_net.eval()"
   ]
  },
  {
   "cell_type": "code",
   "execution_count": 34,
   "metadata": {},
   "outputs": [],
   "source": [
    "# Data loading code\n",
    "mean, std = 11.49, 16.46 #robotcar\n",
    "# mean, std = 119.4501, 6.5258 # Calculated over all dataset\n",
    "normalize = custom_transforms.Normalize(mean=mean, std=std)\n",
    "\n",
    "# train_transform = custom_transforms.Compose([\n",
    "#     custom_transforms.RandomHorizontalFlip(),\n",
    "#     custom_transforms.RandomScaleCrop(),\n",
    "#     custom_transforms.ArrayToTensor(),\n",
    "#     normalize\n",
    "# ])\n",
    "\n",
    "# ds_transform = custom_transforms.Compose([custom_transforms.ArrayToTensor(), normalize])\n",
    "ds_transform = custom_transforms.Compose([custom_transforms.ArrayToTensor()])\n",
    "\n",
    "k=1\n",
    "bs = 128\n",
    "rangeResolutionsInMeter = 0.0432 # 0.0432-robotcar, 0.175-radiate, 0.0977-hand\n",
    "angleResolutionInRad = 0.015708 #0.9deg\n",
    "cart_pixels = 501\n",
    "cart_res = 0.25\n",
    "\n",
    "val_set = SequenceFolder(\n",
    "        '/mnt/datasets/yasin/robotcar',\n",
    "        transform=ds_transform,\n",
    "        seed=12344,\n",
    "        train=False,\n",
    "        sequence_length=3,\n",
    "        skip_frames=k,\n",
    "        dataset='robotcar',\n",
    "        cart_resolution = cart_res,\n",
    "        cart_pixels = cart_pixels,\n",
    "        rangeResolutionsInMeter=rangeResolutionsInMeter,\n",
    "        angleResolutionInRad = angleResolutionInRad\n",
    "    )\n",
    "\n",
    "val_loader = torch.utils.data.DataLoader(\n",
    "        val_set, batch_size=bs, shuffle=False,\n",
    "        num_workers=2, pin_memory=True)"
   ]
  },
  {
   "cell_type": "code",
   "execution_count": 35,
   "metadata": {},
   "outputs": [],
   "source": [
    "#vo_eval = RadarEvalOdom('/mnt/datasets/yasin/records2-23mart2020/vicon-data-subsampled/vicon-gt-test1.csv')"
   ]
  },
  {
   "cell_type": "code",
   "execution_count": 36,
   "metadata": {},
   "outputs": [],
   "source": [
    "def compute_pose_with_inv(pose_net, tgt_img, ref_imgs):\n",
    "    poses = []\n",
    "    poses_inv = []\n",
    "    for ref_img in ref_imgs:\n",
    "        poses.append(pose_net(tgt_img, ref_img))\n",
    "        poses_inv.append(pose_net(ref_img, tgt_img))\n",
    "\n",
    "    return torch.stack(poses), torch.stack(poses_inv)"
   ]
  },
  {
   "cell_type": "code",
   "execution_count": 37,
   "metadata": {},
   "outputs": [],
   "source": [
    "all_poses = []\n",
    "all_inv_poses = []\n",
    "\n",
    "t_start = time.time()\n",
    "with torch.no_grad():\n",
    "    for i, (tgt_img, ref_imgs) in enumerate(val_loader):\n",
    "        #(tgt_img, ref_imgs) = val_it.next()\n",
    "\n",
    "        tgt_img = tgt_img.to(device)\n",
    "        ref_imgs = [img.to(device) for img in ref_imgs]\n",
    "\n",
    "        poses, poses_inv = compute_pose_with_inv(pose_net, tgt_img, ref_imgs)\n",
    "\n",
    "        all_poses.append(poses)\n",
    "        all_inv_poses.append(poses_inv)\n",
    "\n",
    "        # gc.collect()\n",
    "        # torch.cuda.empty_cache()\n",
    "t_del = time.time() - t_start    "
   ]
  },
  {
   "cell_type": "code",
   "execution_count": 38,
   "metadata": {},
   "outputs": [
    {
     "name": "stdout",
     "output_type": "stream",
     "text": [
      "18\n",
      "2304\n",
      "122.7989890575409\n",
      "0.05329817233400212\n"
     ]
    }
   ],
   "source": [
    "nframes = bs*len(val_loader)\n",
    "print(len(all_poses))\n",
    "print(nframes)\n",
    "print(t_del)\n",
    "print(t_del/nframes) # this for total of forward and backward poses"
   ]
  },
  {
   "cell_type": "code",
   "execution_count": 45,
   "metadata": {},
   "outputs": [],
   "source": [
    "def getTraj(all_poses, all_inv_poses, k):\n",
    "    \"\"\"Convert the predicted poses to absolute trajectory. Each prediction in inputs is the relative pose for a sequence of [src_p, tgt, src_n].\n",
    "    We form a trajectory from a chained sequence with k skip frames, e.g. [k, 2*k, 3*k, ..., N]. We shift the sequence by {i:i<k} to evaluate the full prediction.\n",
    "\n",
    "    Args:\n",
    "        all_poses (list): Predicted relative pose values for each src-to-tgt pair. List of torch.Tensor objects size [seq_length, B, 6]. rtvec=[rx, ry, rz, tx, ty, tz]\n",
    "        all_inv_poses (list): Predicted relative pose values for each tgt-to-src pair. List of torch.Tensor objects.\n",
    "        k (int): Skip frames. rtvec=[rx, ry, rz, tx, ty, tz]\n",
    "\n",
    "    Returns:\n",
    "        torch.Tensor: Backward and forward predicted trajectories\n",
    "    \"\"\"\n",
    "\n",
    "    # pred = torch.zeros(self.gt.size(), dtype=self.gt.dtype, device = self.gt.device)\n",
    "    all_poses_t = torch.cat(all_poses, 1) # [seq_length, N, 6]\n",
    "    all_inv_poses_t = torch.cat(all_inv_poses, 1) # [seq_length, N, 6]\n",
    "    \n",
    "    #all_poses_t[:,:,0]=0.0\n",
    "    #all_poses_t[:,:,1]=0.0\n",
    "    #all_poses_t[:,:,5]=0.0\n",
    "\n",
    "    N = all_poses_t.shape[1] #len(all_poses) # number of sequences\n",
    "\n",
    "    i=0\n",
    "    # for i in range(k):\n",
    "    idx = torch.arange(i, N, k)\n",
    "    \n",
    "    # Previous src\n",
    "    # TODO: Şimdilik forward pose alalım. ileride (forward-backward)/2 olmalı\n",
    "    b_pose = (all_poses_t[0, idx] - all_inv_poses_t[0, idx])/2 # (src2tgt + inv(tgt2src))/2 [n,6]\n",
    "    # b_pose = all_poses_t[0, idx] #src2tgt [n,6]\n",
    "    b_pose = -b_pose # tgt2src [n,6]\n",
    "    b_pose = tgm.rtvec_to_pose(b_pose) # tgt2src [n,4,4]\n",
    "    # b_pose = tgm.inv_rigid_tform(b_pose) # tgt2src [n,4,4]\n",
    "    \n",
    "    # b_inv_pose = tgm.rtvec_to_pose(all_inv_poses_t[0, idx]) # inv(src2tgt) [n,4,4]            \n",
    "    b_pose = rel2abs_traj(b_pose) # [n,4,4]\n",
    "    # b_pose = b_pose.cumsum(dim=0) # [n,6] \n",
    "\n",
    "    # Next src\n",
    "    # f_pose = tgm.rtvec_to_pose(all_poses_t[1, idx]) # tgt2src [n,4,4]\n",
    "    # f_inv_pose = tgm.rtvec_to_pose(all_inv_poses_t[1, idx]) # inv(tgt2src) [n,4,4]\n",
    "    # f_inv_pose = tgm.inv_rigid_tform(f_inv_pose) # inv(inv(tgt2src)) [n,4,4]\n",
    "    # f_pose = (f_pose + f_inv_pose)/2 # (tgt2src + inv(inv(tgt2src)))/2 [n,4,4]\n",
    "    # f_pose = rel2abs_traj(f_pose)\n",
    "    f_pose = (all_poses_t[1, idx] - all_inv_poses_t[1, idx])/2 # (src2tgt + inv(tgt2src))/2 [n,6]\n",
    "    # f_pose = all_poses_t[1, idx] #src2tgt [n,6]\n",
    "    # f_pose = -f_pose # tgt2src [n,6]\n",
    "    # f_pose = f_pose.cumsum(dim=0) # [n,6]\n",
    "    f_pose = tgm.rtvec_to_pose(f_pose) # src2tgt [n,4,4]\n",
    "    f_pose = rel2abs_traj(f_pose) # [n,4,4]\n",
    "    # end for\n",
    "\n",
    "    f_xyz = f_pose[:,:3,3]\n",
    "    b_xyz = b_pose[:,:3,3]\n",
    "    return b_xyz.squeeze(), f_xyz.squeeze()\n",
    "\n",
    "def rel2abs_traj_old(rel_pose):\n",
    "    \"\"\"Convert a given relative pose sequences to absolute pose sequences.\n",
    "\n",
    "    Args:\n",
    "        rel_pose (torch.Tensor): Relative pose sequence in the form of homogenous transformation matrix. Shape: [N,4,4]\n",
    "\n",
    "    Returns:\n",
    "        torch.Tensor: Absolute pose sequence in the form of homogenous transformation matrix. Shape: [N,4,4]\n",
    "    \"\"\"\n",
    "\n",
    "    abs_pose = rel_pose.clone()\n",
    "    for i in range(1,abs_pose.shape[0]):\n",
    "        abs_pose[i] = abs_pose[i] @ abs_pose[i-1]\n",
    "\n",
    "    return abs_pose\n",
    "\n",
    "def rel2abs_traj(rel_pose):\n",
    "    \"\"\"Convert a given relative pose sequences to absolute pose sequences.\n",
    "\n",
    "    Args:\n",
    "        rel_pose (torch.Tensor): Relative pose sequence in the form of homogenous transformation matrix. Shape: [N,4,4]\n",
    "\n",
    "    Returns:\n",
    "        torch.Tensor: Absolute pose sequence in the form of homogenous transformation matrix. Shape: [N,4,4]\n",
    "    \"\"\"\n",
    "    global_pose = torch.eye(4).to(device)\n",
    "    abs_pose = torch.zeros_like(rel_pose)    \n",
    "    for i in range(rel_pose.shape[0]):\n",
    "        global_pose = global_pose @ rel_pose[i]\n",
    "        abs_pose[i] = global_pose\n",
    "\n",
    "    return abs_pose\n"
   ]
  },
  {
   "cell_type": "code",
   "execution_count": 40,
   "metadata": {},
   "outputs": [],
   "source": [
    "b_pred_xyz, f_pred_xyz = getTraj(all_poses, all_inv_poses, k)"
   ]
  },
  {
   "cell_type": "code",
   "execution_count": 41,
   "metadata": {},
   "outputs": [
    {
     "name": "stdout",
     "output_type": "stream",
     "text": [
      "torch.Size([2249, 3])\n"
     ]
    }
   ],
   "source": [
    "print(f_pred_xyz.shape)"
   ]
  },
  {
   "cell_type": "code",
   "execution_count": 42,
   "metadata": {},
   "outputs": [
    {
     "data": {
      "image/png": "[encoded data removed]",
      "text/plain": [
       "<Figure size 1152x576 with 2 Axes>"
      ]
     },
     "metadata": {
      "needs_background": "light"
     },
     "output_type": "display_data"
    }
   ],
   "source": [
    "%matplotlib inline\n",
    "plt.figure(figsize=(16,8))\n",
    "plt.subplot(1,2,1)\n",
    "ax = sn.lineplot(x=f_pred_xyz[:,0].cpu().numpy(), y=f_pred_xyz[:,1].cpu().numpy(), sort=False)\n",
    "ax.set(title='Forward Trajectory', xlabel='X (m)', ylabel='Y (m)')\n",
    "plt.subplot(1,2,2)\n",
    "ax = sn.lineplot(x=b_pred_xyz[:,0].cpu().numpy(), y=b_pred_xyz[:,1].cpu().numpy(), sort=False, markers=True)\n",
    "ax.set(title='Backward Trajectory', xlabel='X (m)', ylabel='Y (m)')\n",
    "\n",
    "# Save fig\n",
    "plt.tight_layout()\n",
    "plt.savefig('figs/ro_pred.pdf', bbox_inches = 'tight', pad_inches = 0)"
   ]
  },
  {
   "cell_type": "markdown",
   "metadata": {},
   "source": [
    "# Read GT"
   ]
  },
  {
   "cell_type": "code",
   "execution_count": 24,
   "metadata": {},
   "outputs": [
    {
     "name": "stdout",
     "output_type": "stream",
     "text": [
      "(2249, 6)\n"
     ]
    }
   ],
   "source": [
    "f_gt = '/mnt/datasets/yasin/robotcar/2019-01-10-14-36-48-radar-oxford-10k-partial/gt/radar_odometry.csv'\n",
    "gt = np.genfromtxt(f_gt, delimiter=',', usecols=np.arange(2,8), skip_header=True)\n",
    "gt[:,np.arange(6)] = gt[:,[3,4,5,0,1,2]] # [rx,ry,rz,x,y,x] format\n",
    "print(gt.shape)"
   ]
  },
  {
   "cell_type": "code",
   "execution_count": 25,
   "metadata": {},
   "outputs": [
    {
     "name": "stdout",
     "output_type": "stream",
     "text": [
      "[-0.00e+00 -0.00e+00  1.10e-05  2.69e-04 -2.70e-04 -0.00e+00]\n"
     ]
    }
   ],
   "source": [
    "print(gt[0])"
   ]
  },
  {
   "cell_type": "code",
   "execution_count": 28,
   "metadata": {},
   "outputs": [],
   "source": [
    "gt_t = torch.Tensor(gt).to(device) # [n,6]\n",
    "gt_t = tgm.rtvec_to_pose(gt_t) # [n,4,4]\n",
    "gt_t = rel2abs_traj(gt_t) # [n,4,4]\n",
    "gt_xyz = gt_t[:,:3,3] # [n,3]\n",
    "gt_xyz = gt_xyz.cpu().numpy()"
   ]
  },
  {
   "cell_type": "code",
   "execution_count": 29,
   "metadata": {},
   "outputs": [
    {
     "name": "stdout",
     "output_type": "stream",
     "text": [
      "[2.6900001e-04 1.4360012e-03 2.4210014e-03 ... 6.4725647e+02 6.4486066e+02\n",
      " 6.4244568e+02]\n"
     ]
    }
   ],
   "source": [
    "print(gt_xyz[:,0])"
   ]
  },
  {
   "cell_type": "code",
   "execution_count": 30,
   "metadata": {},
   "outputs": [
    {
     "data": {
      "text/plain": [
       "<AxesSubplot:>"
      ]
     },
     "execution_count": 30,
     "metadata": {},
     "output_type": "execute_result"
    },
    {
     "data": {
      "image/png": "[encoded data removed]",
      "text/plain": [
       "<Figure size 432x288 with 1 Axes>"
      ]
     },
     "metadata": {},
     "output_type": "display_data"
    }
   ],
   "source": [
    "sn.lineplot(x=gt_xyz[:,0], y=gt_xyz[:,1], sort=False)"
   ]
  },
  {
   "cell_type": "markdown",
   "metadata": {},
   "source": [
    "## Align pred to GT"
   ]
  },
  {
   "cell_type": "code",
   "execution_count": 76,
   "metadata": {},
   "outputs": [
    {
     "name": "stderr",
     "output_type": "stream",
     "text": [
      "/home/yasin/anaconda3/envs/pytorch17/lib/python3.7/site-packages/ipykernel_launcher.py:104: UserWarning: Excessively low rank of cross-correlation between aligned point clouds. corresponding_points_alignment cannot return a unique rotation.\n"
     ]
    }
   ],
   "source": [
    "#t_pred_xyz = torch.Tensor(f_pred_xyz).to(device)\n",
    "t_gt_xyz = torch.Tensor(gt_xyz).to(device)\n",
    "rmse_ate, aligned_pred = calculate_ate(f_pred_xyz, t_gt_xyz)\n",
    "np_pred = aligned_pred[0].cpu().numpy()"
   ]
  },
  {
   "cell_type": "code",
   "execution_count": 77,
   "metadata": {},
   "outputs": [
    {
     "name": "stdout",
     "output_type": "stream",
     "text": [
      "tensor([[52.1259, 37.8534,  0.0000]], device='cuda:0')\n",
      "(2249, 3)\n"
     ]
    }
   ],
   "source": [
    "print(rmse_ate)\n",
    "print(np_pred.shape)"
   ]
  },
  {
   "cell_type": "code",
   "execution_count": 82,
   "metadata": {},
   "outputs": [
    {
     "data": {
      "image/png": "[encoded data removed]",
      "text/plain": [
       "<Figure size 576x576 with 1 Axes>"
      ]
     },
     "metadata": {
      "needs_background": "light"
     },
     "output_type": "display_data"
    }
   ],
   "source": [
    "fig, ax = plt.subplots(figsize=(8,8))\n",
    "sn.lineplot(x=np_pred[:,0], y=np_pred[:,1], sort=False, ax=ax, label='Ours')\n",
    "sn.lineplot(x=gt_xyz[:,0], y=gt_xyz[:,1], sort=False, ax=ax, label='GT')\n",
    "\n",
    "ax.set(xlabel='X (m)', ylabel='Y (m)')\n",
    "\n",
    "# Save fig\n",
    "plt.tight_layout()\n",
    "plt.savefig('figs/ro_pred_gt.pdf', bbox_inches = 'tight', pad_inches = 0)"
   ]
  },
  {
   "cell_type": "code",
   "execution_count": null,
   "metadata": {},
   "outputs": [],
   "source": []
  },
  {
   "cell_type": "code",
   "execution_count": 75,
   "metadata": {},
   "outputs": [],
   "source": [
    "import warnings\n",
    "def calculate_ate(pred, gt):\n",
    "        \"\"\"Calculate Absolute Trajectory Error between predicted and ground truth trajectories, using Umeyama alignment.\n",
    "        Both prediction and gt is absolute trajectories.\n",
    "\n",
    "        Args:\n",
    "            pred (torch.Tensor): Predicted trajectory in the form of homogenous transformation matrix. Shape: [N,4,4]\n",
    "            gt (torch.Tensor, optional): Absolute ground truth tracjectory in the form of homogenous transformation matrix Shape: [N,4,4]. Defaults to None.\n",
    "\n",
    "        Returns:\n",
    "            torch.Tensor: Root mean squared error (RMSE) of ATE. Scalar tensor.\n",
    "        \"\"\"\n",
    "\n",
    "        # Align both trajectories to the origin\n",
    "        # pred = align_to_origin(pred)\n",
    "        # gt = align_to_origin(gt)\n",
    "\n",
    "        # None for batching, batch=1\n",
    "        #gt_xyz = gt[None,:,:3,3]\n",
    "        # pred_xyz = pred[None,:,3:]\n",
    "        #pred_xyz = pred[None,:,:3,3]\n",
    "        # pred_xyz = pred_xyz - pred_xyz[0]\n",
    "        #gt_xyz = gt_xyz - gt_xyz[0]\n",
    "        pred = pred[None]\n",
    "        gt = gt[None]\n",
    "        R, T, s = corresponding_points_alignment(pred, gt)\n",
    "\n",
    "        # apply the estimated similarity transform to Xt_init\n",
    "        aligned_pred = _apply_similarity_transform(pred, R, T, s)\n",
    "\n",
    "        # compute the root mean squared error\n",
    "        rmse_ate = ((aligned_pred - gt) ** 2).mean(1).sqrt()\n",
    "\n",
    "        return rmse_ate, aligned_pred"
   ]
  },
  {
   "cell_type": "code",
   "execution_count": 49,
   "metadata": {
    "jupyter": {
     "source_hidden": true
    }
   },
   "outputs": [],
   "source": [
    "# threshold for checking that point crosscorelation\n",
    "# is full rank in corresponding_points_alignment\n",
    "AMBIGUOUS_ROT_SINGULAR_THR = 1e-15\n",
    "\n",
    "def corresponding_points_alignment(\n",
    "    X,\n",
    "    Y,\n",
    "    weights = None,\n",
    "    estimate_scale: bool = False,\n",
    "    allow_reflection: bool = False,\n",
    "    eps: float = 1e-9,\n",
    "):\n",
    "    \"\"\"\n",
    "    Finds a similarity transformation (rotation `R`, translation `T`\n",
    "    and optionally scale `s`)  between two given sets of corresponding\n",
    "    `d`-dimensional points `X` and `Y` such that:\n",
    "\n",
    "    `s[i] X[i] R[i] + T[i] = Y[i]`,\n",
    "\n",
    "    for all batch indexes `i` in the least squares sense.\n",
    "\n",
    "    The algorithm is also known as Umeyama [1]. Code is based on PyTorch3d.\n",
    "\n",
    "    Args:\n",
    "        **X**: Batch of `d`-dimensional points of shape `(minibatch, num_point, d)`\n",
    "            or a `Pointclouds` object.\n",
    "        **Y**: Batch of `d`-dimensional points of shape `(minibatch, num_point, d)`\n",
    "            or a `Pointclouds` object.\n",
    "        **weights**: Batch of non-negative weights of\n",
    "            shape `(minibatch, num_point)` or list of `minibatch` 1-dimensional\n",
    "            tensors that may have different shapes; in that case, the length of\n",
    "            i-th tensor should be equal to the number of points in X_i and Y_i.\n",
    "            Passing `None` means uniform weights.\n",
    "        **estimate_scale**: If `True`, also estimates a scaling component `s`\n",
    "            of the transformation. Otherwise assumes an identity\n",
    "            scale and returns a tensor of ones.\n",
    "        **allow_reflection**: If `True`, allows the algorithm to return `R`\n",
    "            which is orthonormal but has determinant==-1.\n",
    "        **eps**: A scalar for clamping to avoid dividing by zero. Active for the\n",
    "            code that estimates the output scale `s`.\n",
    "\n",
    "    Returns:\n",
    "        3-element named tuple `SimilarityTransform` containing\n",
    "        - **R**: Batch of orthonormal matrices of shape `(minibatch, d, d)`.\n",
    "        - **T**: Batch of translations of shape `(minibatch, d)`.\n",
    "        - **s**: batch of scaling factors of shape `(minibatch, )`.\n",
    "\n",
    "    References:\n",
    "        [1] Shinji Umeyama: Least-Suqares Estimation of\n",
    "        Transformation Parameters Between Two Point Patterns\n",
    "    \"\"\"\n",
    "\n",
    "    Xt = X\n",
    "    Yt = Y\n",
    "    num_points = torch.tensor(Xt.shape[1:-1]).to(device)\n",
    "    num_points_Y = torch.tensor(Yt.shape[1:-1]).to(device)\n",
    "\n",
    "\n",
    "    if (Xt.shape != Yt.shape) or (num_points != num_points_Y).any():\n",
    "        raise ValueError(\n",
    "            \"Point sets X and Y have to have the same \\\n",
    "            number of batches, points and dimensions.\"\n",
    "        )\n",
    "    \n",
    "\n",
    "    b, n, dim = Xt.shape\n",
    "\n",
    "    # compute the centroids of the point sets\n",
    "    Xmu = Xt.mean(dim=1, keepdim=True) #oputil.wmean(Xt, weight=weights, eps=eps)\n",
    "    Ymu = Yt.mean(dim=1, keepdim=True) #oputil.wmean(Yt, weight=weights, eps=eps)\n",
    "\n",
    "\n",
    "    # mean-center the point sets\n",
    "    Xc = Xt - Xmu\n",
    "    Yc = Yt - Ymu\n",
    "\n",
    "    total_weight = torch.clamp(num_points, 1)\n",
    "    # special handling for heterogeneous point clouds and/or input weights\n",
    "    if weights is not None:\n",
    "        Xc *= weights[:, :, None]\n",
    "        Yc *= weights[:, :, None]\n",
    "        total_weight = torch.clamp(weights.sum(1), eps)\n",
    "\n",
    "    if (num_points < (dim + 1)).any():\n",
    "        warnings.warn(\n",
    "            \"The size of one of the point clouds is <= dim+1. \"\n",
    "            + \"corresponding_points_alignment cannot return a unique rotation.\"\n",
    "        )\n",
    "\n",
    "    # compute the covariance XYcov between the point sets Xc, Yc\n",
    "    XYcov = torch.bmm(Xc.transpose(2, 1), Yc)\n",
    "    XYcov = XYcov / total_weight[:, None, None]\n",
    "\n",
    "    # decompose the covariance matrix XYcov\n",
    "    U, S, V = torch.svd(XYcov)\n",
    "\n",
    "    # catch ambiguous rotation by checking the magnitude of singular values\n",
    "    if (S.abs() <= AMBIGUOUS_ROT_SINGULAR_THR).any() and not (\n",
    "        num_points < (dim + 1)\n",
    "    ).any():\n",
    "        warnings.warn(\n",
    "            \"Excessively low rank of \"\n",
    "            + \"cross-correlation between aligned point clouds. \"\n",
    "            + \"corresponding_points_alignment cannot return a unique rotation.\"\n",
    "        )\n",
    "\n",
    "    # identity matrix used for fixing reflections\n",
    "    E = torch.eye(dim, dtype=XYcov.dtype, device=XYcov.device)[None].repeat(b, 1, 1)\n",
    "\n",
    "    if not allow_reflection:\n",
    "        # reflection test:\n",
    "        #   checks whether the estimated rotation has det==1,\n",
    "        #   if not, finds the nearest rotation s.t. det==1 by\n",
    "        #   flipping the sign of the last singular vector U\n",
    "        R_test = torch.bmm(U, V.transpose(2, 1))\n",
    "        E[:, -1, -1] = torch.det(R_test)\n",
    "\n",
    "    # find the rotation matrix by composing U and V again\n",
    "    R = torch.bmm(torch.bmm(U, E), V.transpose(2, 1))\n",
    "\n",
    "    if estimate_scale:\n",
    "        # estimate the scaling component of the transformation\n",
    "        trace_ES = (torch.diagonal(E, dim1=1, dim2=2) * S).sum(1)\n",
    "        Xcov = (Xc * Xc).sum((1, 2)) / total_weight\n",
    "\n",
    "        # the scaling component\n",
    "        s = trace_ES / torch.clamp(Xcov, eps)\n",
    "\n",
    "        # translation component\n",
    "        T = Ymu[:, 0, :] - s[:, None] * torch.bmm(Xmu, R)[:, 0, :]\n",
    "    else:\n",
    "        # translation component\n",
    "        T = Ymu[:, 0, :] - torch.bmm(Xmu, R)[:, 0, :]\n",
    "\n",
    "        # unit scaling since we do not estimate scale\n",
    "        s = T.new_ones(b)\n",
    "\n",
    "    return R, T, s\n",
    "\n",
    "def _apply_similarity_transform(\n",
    "    X: torch.Tensor, R: torch.Tensor, T: torch.Tensor, s: torch.Tensor\n",
    ") -> torch.Tensor:\n",
    "    \"\"\"\n",
    "    Applies a similarity transformation parametrized with a batch of orthonormal\n",
    "    matrices `R` of shape `(minibatch, d, d)`, a batch of translations `T`\n",
    "    of shape `(minibatch, d)` and a batch of scaling factors `s`\n",
    "    of shape `(minibatch,)` to a given `d`-dimensional cloud `X`\n",
    "    of shape `(minibatch, num_points, d)`\n",
    "    Code is based on PyTorch3d.\n",
    "    \"\"\"\n",
    "    X = s[:, None, None] * torch.bmm(X, R) + T[:, None, :]\n",
    "    return X"
   ]
  },
  {
   "cell_type": "markdown",
   "metadata": {},
   "source": [
    "# All pose analysis"
   ]
  },
  {
   "cell_type": "code",
   "execution_count": 96,
   "metadata": {},
   "outputs": [],
   "source": [
    "all_poses_t = torch.cat(all_poses, 1) # [seq_length, N, 6]\n",
    "all_inv_poses_t = torch.cat(all_inv_poses, 1) # [seq_length, N, 6]"
   ]
  },
  {
   "cell_type": "code",
   "execution_count": 97,
   "metadata": {},
   "outputs": [
    {
     "name": "stdout",
     "output_type": "stream",
     "text": [
      "torch.Size([2, 2249, 6])\n"
     ]
    }
   ],
   "source": [
    "print(all_poses_t.shape)"
   ]
  },
  {
   "cell_type": "code",
   "execution_count": 98,
   "metadata": {},
   "outputs": [
    {
     "name": "stdout",
     "output_type": "stream",
     "text": [
      "tensor([[-4.5480, -0.9084, -1.1399,  0.1761, -0.0109, -0.1477],\n",
      "        [-4.5480, -0.9084, -1.1399,  0.1761, -0.0109, -0.1477],\n",
      "        [-4.5480, -0.9084, -1.1399,  0.1761, -0.0109, -0.1477],\n",
      "        [-4.5480, -0.9084, -1.1399,  0.1761, -0.0109, -0.1477],\n",
      "        [-4.5480, -0.9084, -1.1399,  0.1761, -0.0109, -0.1477]],\n",
      "       device='cuda:0')\n",
      "tensor([[-4.5480, -0.9084, -1.1399,  0.1761, -0.0109, -0.1477],\n",
      "        [-4.5480, -0.9084, -1.1399,  0.1761, -0.0109, -0.1477],\n",
      "        [-4.5480, -0.9084, -1.1399,  0.1761, -0.0109, -0.1477],\n",
      "        [-4.5480, -0.9084, -1.1399,  0.1761, -0.0109, -0.1477],\n",
      "        [-4.5480, -0.9084, -1.1399,  0.1761, -0.0109, -0.1477]],\n",
      "       device='cuda:0')\n"
     ]
    }
   ],
   "source": [
    "print(all_poses_t[0,:5])\n",
    "print(all_inv_poses_t[0,:5])"
   ]
  },
  {
   "cell_type": "code",
   "execution_count": 15,
   "metadata": {},
   "outputs": [],
   "source": [
    "N = all_poses_t.shape[1]"
   ]
  },
  {
   "cell_type": "code",
   "execution_count": 19,
   "metadata": {},
   "outputs": [],
   "source": [
    "ate_bs = []\n",
    "ate_fs = []\n",
    "\n",
    "i=0\n",
    "#for i in range(k):\n",
    "\n",
    "idx = torch.arange(i, N, k)\n",
    "            \n"
   ]
  },
  {
   "cell_type": "code",
   "execution_count": 22,
   "metadata": {},
   "outputs": [
    {
     "name": "stdout",
     "output_type": "stream",
     "text": [
      "tensor([ 0.0314, -0.0452,  0.0081,  0.0153,  0.0062,  0.0026], device='cuda:0')\n"
     ]
    }
   ],
   "source": [
    "print(all_poses_t[0, 0])"
   ]
  },
  {
   "cell_type": "code",
   "execution_count": 30,
   "metadata": {},
   "outputs": [],
   "source": [
    "# Previous src\n",
    "b_pose = all_poses_t[1, idx]\n"
   ]
  },
  {
   "cell_type": "code",
   "execution_count": 31,
   "metadata": {},
   "outputs": [
    {
     "name": "stdout",
     "output_type": "stream",
     "text": [
      "torch.Size([98, 6])\n",
      "tensor([ 0.0220, -0.0847,  0.0087,  0.0214,  0.0090,  0.0085], device='cuda:0')\n"
     ]
    }
   ],
   "source": [
    "print(b_pose.shape)\n",
    "print(b_pose[0])"
   ]
  },
  {
   "cell_type": "code",
   "execution_count": 32,
   "metadata": {},
   "outputs": [],
   "source": [
    "b_pose = b_pose.cumsum(dim=0) # [n,6]"
   ]
  },
  {
   "cell_type": "code",
   "execution_count": 33,
   "metadata": {},
   "outputs": [
    {
     "name": "stdout",
     "output_type": "stream",
     "text": [
      "torch.Size([98, 6])\n",
      "tensor([ 0.0220, -0.0847,  0.0087,  0.0214,  0.0090,  0.0085], device='cuda:0')\n"
     ]
    }
   ],
   "source": [
    "print(b_pose.shape)\n",
    "print(b_pose[0])"
   ]
  },
  {
   "cell_type": "code",
   "execution_count": 34,
   "metadata": {},
   "outputs": [
    {
     "data": {
      "text/plain": [
       "[<matplotlib.lines.Line2D at 0x7f68d0851490>]"
      ]
     },
     "execution_count": 34,
     "metadata": {},
     "output_type": "execute_result"
    },
    {
     "data": {
      "image/png": "[encoded data removed]",
      "text/plain": [
       "<Figure size 432x288 with 1 Axes>"
      ]
     },
     "metadata": {
      "needs_background": "light"
     },
     "output_type": "display_data"
    }
   ],
   "source": [
    "%matplotlib inline\n",
    "plt.plot(b_pose[:,3].cpu().numpy(), b_pose[:,4].cpu().numpy())"
   ]
  },
  {
   "cell_type": "markdown",
   "metadata": {},
   "source": [
    "# tgm tests"
   ]
  },
  {
   "cell_type": "code",
   "execution_count": 81,
   "metadata": {},
   "outputs": [],
   "source": [
    "f_pose = torch.Tensor([\n",
    "    [0,0,0,0,0,0],\n",
    "    [0,0,0,2.0,0,0],\n",
    "    [0,0,0,0,2,0],\n",
    "    [0,0,1.57,0,0,0],\n",
    "    [0,0,0,0,2,0]    \n",
    "])"
   ]
  },
  {
   "cell_type": "code",
   "execution_count": 82,
   "metadata": {},
   "outputs": [],
   "source": [
    "f_pose = tgm.rtvec_to_pose(f_pose)\n",
    "f_pose = rel2abs_traj2(f_pose) # [n,4,4]"
   ]
  },
  {
   "cell_type": "code",
   "execution_count": 83,
   "metadata": {},
   "outputs": [
    {
     "name": "stdout",
     "output_type": "stream",
     "text": [
      "tensor([[0.0000e+00, 0.0000e+00, 0.0000e+00],\n",
      "        [2.0000e+00, 0.0000e+00, 0.0000e+00],\n",
      "        [2.0000e+00, 2.0000e+00, 0.0000e+00],\n",
      "        [2.0000e+00, 2.0000e+00, 0.0000e+00],\n",
      "        [1.7881e-06, 2.0016e+00, 0.0000e+00]])\n"
     ]
    }
   ],
   "source": [
    "f_xyz = f_pose[:,:3,3]\n",
    "print(f_xyz)"
   ]
  },
  {
   "cell_type": "code",
   "execution_count": 84,
   "metadata": {},
   "outputs": [
    {
     "data": {
      "text/plain": [
       "Text(0.5, 0, 'x')"
      ]
     },
     "execution_count": 84,
     "metadata": {},
     "output_type": "execute_result"
    },
    {
     "data": {
      "image/png": "[encoded data removed]",
      "text/plain": [
       "<Figure size 432x288 with 1 Axes>"
      ]
     },
     "metadata": {
      "needs_background": "light"
     },
     "output_type": "display_data"
    }
   ],
   "source": [
    "%matplotlib inline\n",
    "plt.plot(f_xyz[:,0].cpu().numpy(), f_xyz[:,1].cpu().numpy())\n",
    "plt.xlabel('x')"
   ]
  },
  {
   "cell_type": "code",
   "execution_count": null,
   "metadata": {},
   "outputs": [],
   "source": []
  }
 ],
 "metadata": {
  "kernelspec": {
   "display_name": "Python [conda env:pytorch17]",
   "language": "python",
   "name": "conda-env-pytorch17-py"
  },
  "language_info": {
   "codemirror_mode": {
    "name": "ipython",
    "version": 3
   },
   "file_extension": ".py",
   "mimetype": "text/x-python",
   "name": "python",
   "nbconvert_exporter": "python",
   "pygments_lexer": "ipython3",
   "version": "3.7.9"
  }
 },
 "nbformat": 4,
 "nbformat_minor": 4
}
